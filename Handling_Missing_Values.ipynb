{
 "cells": [
  {
   "cell_type": "code",
   "execution_count": 130,
   "id": "3fb5e5dd",
   "metadata": {},
   "outputs": [],
   "source": [
    "import pandas as pd\n",
    "import numpy as np\n",
    "import matplotlib.pyplot as plt\n",
    "import seaborn as sns\n",
    "%matplotlib inline\n",
    "import warnings\n",
    "warnings.filterwarnings('ignore')"
   ]
  },
  {
   "cell_type": "code",
   "execution_count": 131,
   "id": "10d2b6f5",
   "metadata": {},
   "outputs": [],
   "source": [
    "data=pd.read_csv('Travel.csv')"
   ]
  },
  {
   "cell_type": "code",
   "execution_count": 132,
   "id": "c7c57e90",
   "metadata": {},
   "outputs": [
    {
     "data": {
      "text/plain": [
       "['Age',\n",
       " 'DurationOfPitch',\n",
       " 'NumberOfFollowups',\n",
       " 'PreferredPropertyStar',\n",
       " 'NumberOfTrips',\n",
       " 'NumberOfChildrenVisiting',\n",
       " 'MonthlyIncome']"
      ]
     },
     "execution_count": 132,
     "metadata": {},
     "output_type": "execute_result"
    }
   ],
   "source": [
    "num_col=[fea for fea in data.columns if (data[fea].dtype !='O' and data[fea].dtype !=int)]#segregating categorical and numerical variables \n",
    "num_col"
   ]
  },
  {
   "cell_type": "code",
   "execution_count": 133,
   "id": "e3fc2ffa",
   "metadata": {},
   "outputs": [
    {
     "data": {
      "text/plain": [
       "Age                         0.046236\n",
       "DurationOfPitch             0.051350\n",
       "NumberOfFollowups           0.009206\n",
       "PreferredPropertyStar       0.005319\n",
       "NumberOfTrips               0.028642\n",
       "NumberOfChildrenVisiting    0.013502\n",
       "MonthlyIncome               0.047668\n",
       "dtype: float64"
      ]
     },
     "execution_count": 133,
     "metadata": {},
     "output_type": "execute_result"
    }
   ],
   "source": [
    "data[num_col].isnull().mean()"
   ]
  },
  {
   "cell_type": "markdown",
   "id": "efdd5ab9",
   "metadata": {},
   "source": [
    "Method 1: Performing Mean Imputation"
   ]
  },
  {
   "cell_type": "code",
   "execution_count": 134,
   "id": "8bbee243",
   "metadata": {},
   "outputs": [],
   "source": [
    "# Method 1: Performing Mean Imputation\n",
    "\n",
    "for var in num_col:\n",
    "    value=data[var].mean()\n",
    "    data[var]=data[var].fillna(value)"
   ]
  },
  {
   "cell_type": "code",
   "execution_count": 135,
   "id": "ebc01db2",
   "metadata": {},
   "outputs": [
    {
     "data": {
      "text/plain": [
       "Age                         0.0\n",
       "DurationOfPitch             0.0\n",
       "NumberOfFollowups           0.0\n",
       "PreferredPropertyStar       0.0\n",
       "NumberOfTrips               0.0\n",
       "NumberOfChildrenVisiting    0.0\n",
       "MonthlyIncome               0.0\n",
       "dtype: float64"
      ]
     },
     "execution_count": 135,
     "metadata": {},
     "output_type": "execute_result"
    }
   ],
   "source": [
    "data[num_col].isnull().mean() # Checking after imputation"
   ]
  },
  {
   "cell_type": "markdown",
   "id": "26a0a5f4",
   "metadata": {},
   "source": [
    "Method 2: Imputing Missing Values by mean using scikit-learn"
   ]
  },
  {
   "cell_type": "code",
   "execution_count": 136,
   "id": "42b57c35",
   "metadata": {},
   "outputs": [],
   "source": [
    "# Method 2: Imputing Missing Values by mean using scikit-learn\n",
    "import sklearn\n",
    "from sklearn.impute import SimpleImputer\n",
    "imputer= SimpleImputer(strategy='mean')"
   ]
  },
  {
   "cell_type": "code",
   "execution_count": 137,
   "id": "3a7cf9c5",
   "metadata": {},
   "outputs": [],
   "source": [
    "data=pd.read_csv('Travel.csv')\n",
    "num_col=[fea for fea in data.columns if (data[fea].dtype !='O' and data[fea].dtype !=int)]\n",
    "#segregating categorical and numerical variables \n",
    "X=data[num_col]"
   ]
  },
  {
   "cell_type": "code",
   "execution_count": 138,
   "id": "01307e44",
   "metadata": {},
   "outputs": [
    {
     "data": {
      "text/html": [
       "<style>#sk-container-id-8 {color: black;background-color: white;}#sk-container-id-8 pre{padding: 0;}#sk-container-id-8 div.sk-toggleable {background-color: white;}#sk-container-id-8 label.sk-toggleable__label {cursor: pointer;display: block;width: 100%;margin-bottom: 0;padding: 0.3em;box-sizing: border-box;text-align: center;}#sk-container-id-8 label.sk-toggleable__label-arrow:before {content: \"▸\";float: left;margin-right: 0.25em;color: #696969;}#sk-container-id-8 label.sk-toggleable__label-arrow:hover:before {color: black;}#sk-container-id-8 div.sk-estimator:hover label.sk-toggleable__label-arrow:before {color: black;}#sk-container-id-8 div.sk-toggleable__content {max-height: 0;max-width: 0;overflow: hidden;text-align: left;background-color: #f0f8ff;}#sk-container-id-8 div.sk-toggleable__content pre {margin: 0.2em;color: black;border-radius: 0.25em;background-color: #f0f8ff;}#sk-container-id-8 input.sk-toggleable__control:checked~div.sk-toggleable__content {max-height: 200px;max-width: 100%;overflow: auto;}#sk-container-id-8 input.sk-toggleable__control:checked~label.sk-toggleable__label-arrow:before {content: \"▾\";}#sk-container-id-8 div.sk-estimator input.sk-toggleable__control:checked~label.sk-toggleable__label {background-color: #d4ebff;}#sk-container-id-8 div.sk-label input.sk-toggleable__control:checked~label.sk-toggleable__label {background-color: #d4ebff;}#sk-container-id-8 input.sk-hidden--visually {border: 0;clip: rect(1px 1px 1px 1px);clip: rect(1px, 1px, 1px, 1px);height: 1px;margin: -1px;overflow: hidden;padding: 0;position: absolute;width: 1px;}#sk-container-id-8 div.sk-estimator {font-family: monospace;background-color: #f0f8ff;border: 1px dotted black;border-radius: 0.25em;box-sizing: border-box;margin-bottom: 0.5em;}#sk-container-id-8 div.sk-estimator:hover {background-color: #d4ebff;}#sk-container-id-8 div.sk-parallel-item::after {content: \"\";width: 100%;border-bottom: 1px solid gray;flex-grow: 1;}#sk-container-id-8 div.sk-label:hover label.sk-toggleable__label {background-color: #d4ebff;}#sk-container-id-8 div.sk-serial::before {content: \"\";position: absolute;border-left: 1px solid gray;box-sizing: border-box;top: 0;bottom: 0;left: 50%;z-index: 0;}#sk-container-id-8 div.sk-serial {display: flex;flex-direction: column;align-items: center;background-color: white;padding-right: 0.2em;padding-left: 0.2em;position: relative;}#sk-container-id-8 div.sk-item {position: relative;z-index: 1;}#sk-container-id-8 div.sk-parallel {display: flex;align-items: stretch;justify-content: center;background-color: white;position: relative;}#sk-container-id-8 div.sk-item::before, #sk-container-id-8 div.sk-parallel-item::before {content: \"\";position: absolute;border-left: 1px solid gray;box-sizing: border-box;top: 0;bottom: 0;left: 50%;z-index: -1;}#sk-container-id-8 div.sk-parallel-item {display: flex;flex-direction: column;z-index: 1;position: relative;background-color: white;}#sk-container-id-8 div.sk-parallel-item:first-child::after {align-self: flex-end;width: 50%;}#sk-container-id-8 div.sk-parallel-item:last-child::after {align-self: flex-start;width: 50%;}#sk-container-id-8 div.sk-parallel-item:only-child::after {width: 0;}#sk-container-id-8 div.sk-dashed-wrapped {border: 1px dashed gray;margin: 0 0.4em 0.5em 0.4em;box-sizing: border-box;padding-bottom: 0.4em;background-color: white;}#sk-container-id-8 div.sk-label label {font-family: monospace;font-weight: bold;display: inline-block;line-height: 1.2em;}#sk-container-id-8 div.sk-label-container {text-align: center;}#sk-container-id-8 div.sk-container {/* jupyter's `normalize.less` sets `[hidden] { display: none; }` but bootstrap.min.css set `[hidden] { display: none !important; }` so we also need the `!important` here to be able to override the default hidden behavior on the sphinx rendered scikit-learn.org. See: https://github.com/scikit-learn/scikit-learn/issues/21755 */display: inline-block !important;position: relative;}#sk-container-id-8 div.sk-text-repr-fallback {display: none;}</style><div id=\"sk-container-id-8\" class=\"sk-top-container\"><div class=\"sk-text-repr-fallback\"><pre>SimpleImputer()</pre><b>In a Jupyter environment, please rerun this cell to show the HTML representation or trust the notebook. <br />On GitHub, the HTML representation is unable to render, please try loading this page with nbviewer.org.</b></div><div class=\"sk-container\" hidden><div class=\"sk-item\"><div class=\"sk-estimator sk-toggleable\"><input class=\"sk-toggleable__control sk-hidden--visually\" id=\"sk-estimator-id-8\" type=\"checkbox\" checked><label for=\"sk-estimator-id-8\" class=\"sk-toggleable__label sk-toggleable__label-arrow\">SimpleImputer</label><div class=\"sk-toggleable__content\"><pre>SimpleImputer()</pre></div></div></div></div></div>"
      ],
      "text/plain": [
       "SimpleImputer()"
      ]
     },
     "execution_count": 138,
     "metadata": {},
     "output_type": "execute_result"
    }
   ],
   "source": [
    "imputer.fit(X) # fitting SimpleImputer to the datafrane X"
   ]
  },
  {
   "cell_type": "code",
   "execution_count": 139,
   "id": "3e675cd2",
   "metadata": {},
   "outputs": [
    {
     "data": {
      "text/html": [
       "<div>\n",
       "<style scoped>\n",
       "    .dataframe tbody tr th:only-of-type {\n",
       "        vertical-align: middle;\n",
       "    }\n",
       "\n",
       "    .dataframe tbody tr th {\n",
       "        vertical-align: top;\n",
       "    }\n",
       "\n",
       "    .dataframe thead th {\n",
       "        text-align: right;\n",
       "    }\n",
       "</style>\n",
       "<table border=\"1\" class=\"dataframe\">\n",
       "  <thead>\n",
       "    <tr style=\"text-align: right;\">\n",
       "      <th></th>\n",
       "      <th>Age</th>\n",
       "      <th>DurationOfPitch</th>\n",
       "      <th>NumberOfFollowups</th>\n",
       "      <th>PreferredPropertyStar</th>\n",
       "      <th>NumberOfTrips</th>\n",
       "      <th>NumberOfChildrenVisiting</th>\n",
       "      <th>MonthlyIncome</th>\n",
       "    </tr>\n",
       "  </thead>\n",
       "  <tbody>\n",
       "    <tr>\n",
       "      <th>0</th>\n",
       "      <td>41.0</td>\n",
       "      <td>6.0</td>\n",
       "      <td>3.0</td>\n",
       "      <td>3.0</td>\n",
       "      <td>1.0</td>\n",
       "      <td>0.0</td>\n",
       "      <td>20993.0</td>\n",
       "    </tr>\n",
       "    <tr>\n",
       "      <th>1</th>\n",
       "      <td>49.0</td>\n",
       "      <td>14.0</td>\n",
       "      <td>4.0</td>\n",
       "      <td>4.0</td>\n",
       "      <td>2.0</td>\n",
       "      <td>2.0</td>\n",
       "      <td>20130.0</td>\n",
       "    </tr>\n",
       "    <tr>\n",
       "      <th>2</th>\n",
       "      <td>37.0</td>\n",
       "      <td>8.0</td>\n",
       "      <td>4.0</td>\n",
       "      <td>3.0</td>\n",
       "      <td>7.0</td>\n",
       "      <td>0.0</td>\n",
       "      <td>17090.0</td>\n",
       "    </tr>\n",
       "    <tr>\n",
       "      <th>3</th>\n",
       "      <td>33.0</td>\n",
       "      <td>9.0</td>\n",
       "      <td>3.0</td>\n",
       "      <td>3.0</td>\n",
       "      <td>2.0</td>\n",
       "      <td>1.0</td>\n",
       "      <td>17909.0</td>\n",
       "    </tr>\n",
       "    <tr>\n",
       "      <th>4</th>\n",
       "      <td>NaN</td>\n",
       "      <td>8.0</td>\n",
       "      <td>3.0</td>\n",
       "      <td>4.0</td>\n",
       "      <td>1.0</td>\n",
       "      <td>0.0</td>\n",
       "      <td>18468.0</td>\n",
       "    </tr>\n",
       "    <tr>\n",
       "      <th>...</th>\n",
       "      <td>...</td>\n",
       "      <td>...</td>\n",
       "      <td>...</td>\n",
       "      <td>...</td>\n",
       "      <td>...</td>\n",
       "      <td>...</td>\n",
       "      <td>...</td>\n",
       "    </tr>\n",
       "    <tr>\n",
       "      <th>4883</th>\n",
       "      <td>49.0</td>\n",
       "      <td>9.0</td>\n",
       "      <td>5.0</td>\n",
       "      <td>4.0</td>\n",
       "      <td>2.0</td>\n",
       "      <td>1.0</td>\n",
       "      <td>26576.0</td>\n",
       "    </tr>\n",
       "    <tr>\n",
       "      <th>4884</th>\n",
       "      <td>28.0</td>\n",
       "      <td>31.0</td>\n",
       "      <td>5.0</td>\n",
       "      <td>3.0</td>\n",
       "      <td>3.0</td>\n",
       "      <td>2.0</td>\n",
       "      <td>21212.0</td>\n",
       "    </tr>\n",
       "    <tr>\n",
       "      <th>4885</th>\n",
       "      <td>52.0</td>\n",
       "      <td>17.0</td>\n",
       "      <td>4.0</td>\n",
       "      <td>4.0</td>\n",
       "      <td>7.0</td>\n",
       "      <td>3.0</td>\n",
       "      <td>31820.0</td>\n",
       "    </tr>\n",
       "    <tr>\n",
       "      <th>4886</th>\n",
       "      <td>19.0</td>\n",
       "      <td>16.0</td>\n",
       "      <td>4.0</td>\n",
       "      <td>3.0</td>\n",
       "      <td>3.0</td>\n",
       "      <td>2.0</td>\n",
       "      <td>20289.0</td>\n",
       "    </tr>\n",
       "    <tr>\n",
       "      <th>4887</th>\n",
       "      <td>36.0</td>\n",
       "      <td>14.0</td>\n",
       "      <td>4.0</td>\n",
       "      <td>4.0</td>\n",
       "      <td>3.0</td>\n",
       "      <td>2.0</td>\n",
       "      <td>24041.0</td>\n",
       "    </tr>\n",
       "  </tbody>\n",
       "</table>\n",
       "<p>4888 rows × 7 columns</p>\n",
       "</div>"
      ],
      "text/plain": [
       "       Age  DurationOfPitch  NumberOfFollowups  PreferredPropertyStar  \\\n",
       "0     41.0              6.0                3.0                    3.0   \n",
       "1     49.0             14.0                4.0                    4.0   \n",
       "2     37.0              8.0                4.0                    3.0   \n",
       "3     33.0              9.0                3.0                    3.0   \n",
       "4      NaN              8.0                3.0                    4.0   \n",
       "...    ...              ...                ...                    ...   \n",
       "4883  49.0              9.0                5.0                    4.0   \n",
       "4884  28.0             31.0                5.0                    3.0   \n",
       "4885  52.0             17.0                4.0                    4.0   \n",
       "4886  19.0             16.0                4.0                    3.0   \n",
       "4887  36.0             14.0                4.0                    4.0   \n",
       "\n",
       "      NumberOfTrips  NumberOfChildrenVisiting  MonthlyIncome  \n",
       "0               1.0                       0.0        20993.0  \n",
       "1               2.0                       2.0        20130.0  \n",
       "2               7.0                       0.0        17090.0  \n",
       "3               2.0                       1.0        17909.0  \n",
       "4               1.0                       0.0        18468.0  \n",
       "...             ...                       ...            ...  \n",
       "4883            2.0                       1.0        26576.0  \n",
       "4884            3.0                       2.0        21212.0  \n",
       "4885            7.0                       3.0        31820.0  \n",
       "4886            3.0                       2.0        20289.0  \n",
       "4887            3.0                       2.0        24041.0  \n",
       "\n",
       "[4888 rows x 7 columns]"
      ]
     },
     "execution_count": 139,
     "metadata": {},
     "output_type": "execute_result"
    }
   ],
   "source": [
    "X"
   ]
  },
  {
   "cell_type": "code",
   "execution_count": 140,
   "id": "cdcaf0d0",
   "metadata": {},
   "outputs": [
    {
     "data": {
      "text/plain": [
       "array([[4.1000e+01, 6.0000e+00, 3.0000e+00, ..., 1.0000e+00, 0.0000e+00,\n",
       "        2.0993e+04],\n",
       "       [4.9000e+01, 1.4000e+01, 4.0000e+00, ..., 2.0000e+00, 2.0000e+00,\n",
       "        2.0130e+04],\n",
       "       [3.7000e+01, 8.0000e+00, 4.0000e+00, ..., 7.0000e+00, 0.0000e+00,\n",
       "        1.7090e+04],\n",
       "       ...,\n",
       "       [5.2000e+01, 1.7000e+01, 4.0000e+00, ..., 7.0000e+00, 3.0000e+00,\n",
       "        3.1820e+04],\n",
       "       [1.9000e+01, 1.6000e+01, 4.0000e+00, ..., 3.0000e+00, 2.0000e+00,\n",
       "        2.0289e+04],\n",
       "       [3.6000e+01, 1.4000e+01, 4.0000e+00, ..., 3.0000e+00, 2.0000e+00,\n",
       "        2.4041e+04]])"
      ]
     },
     "execution_count": 140,
     "metadata": {},
     "output_type": "execute_result"
    }
   ],
   "source": [
    "X=imputer.transform(X)\n",
    "X"
   ]
  },
  {
   "cell_type": "code",
   "execution_count": 143,
   "id": "5de48f06",
   "metadata": {},
   "outputs": [
    {
     "data": {
      "text/html": [
       "<div>\n",
       "<style scoped>\n",
       "    .dataframe tbody tr th:only-of-type {\n",
       "        vertical-align: middle;\n",
       "    }\n",
       "\n",
       "    .dataframe tbody tr th {\n",
       "        vertical-align: top;\n",
       "    }\n",
       "\n",
       "    .dataframe thead th {\n",
       "        text-align: right;\n",
       "    }\n",
       "</style>\n",
       "<table border=\"1\" class=\"dataframe\">\n",
       "  <thead>\n",
       "    <tr style=\"text-align: right;\">\n",
       "      <th></th>\n",
       "      <th>Age</th>\n",
       "      <th>DurationOfPitch</th>\n",
       "      <th>NumberOfFollowups</th>\n",
       "      <th>PreferredPropertyStar</th>\n",
       "      <th>NumberOfTrips</th>\n",
       "      <th>NumberOfChildrenVisiting</th>\n",
       "      <th>MonthlyIncome</th>\n",
       "    </tr>\n",
       "  </thead>\n",
       "  <tbody>\n",
       "    <tr>\n",
       "      <th>0</th>\n",
       "      <td>41.000000</td>\n",
       "      <td>6.0</td>\n",
       "      <td>3.0</td>\n",
       "      <td>3.0</td>\n",
       "      <td>1.0</td>\n",
       "      <td>0.0</td>\n",
       "      <td>20993.0</td>\n",
       "    </tr>\n",
       "    <tr>\n",
       "      <th>1</th>\n",
       "      <td>49.000000</td>\n",
       "      <td>14.0</td>\n",
       "      <td>4.0</td>\n",
       "      <td>4.0</td>\n",
       "      <td>2.0</td>\n",
       "      <td>2.0</td>\n",
       "      <td>20130.0</td>\n",
       "    </tr>\n",
       "    <tr>\n",
       "      <th>2</th>\n",
       "      <td>37.000000</td>\n",
       "      <td>8.0</td>\n",
       "      <td>4.0</td>\n",
       "      <td>3.0</td>\n",
       "      <td>7.0</td>\n",
       "      <td>0.0</td>\n",
       "      <td>17090.0</td>\n",
       "    </tr>\n",
       "    <tr>\n",
       "      <th>3</th>\n",
       "      <td>33.000000</td>\n",
       "      <td>9.0</td>\n",
       "      <td>3.0</td>\n",
       "      <td>3.0</td>\n",
       "      <td>2.0</td>\n",
       "      <td>1.0</td>\n",
       "      <td>17909.0</td>\n",
       "    </tr>\n",
       "    <tr>\n",
       "      <th>4</th>\n",
       "      <td>37.622265</td>\n",
       "      <td>8.0</td>\n",
       "      <td>3.0</td>\n",
       "      <td>4.0</td>\n",
       "      <td>1.0</td>\n",
       "      <td>0.0</td>\n",
       "      <td>18468.0</td>\n",
       "    </tr>\n",
       "    <tr>\n",
       "      <th>...</th>\n",
       "      <td>...</td>\n",
       "      <td>...</td>\n",
       "      <td>...</td>\n",
       "      <td>...</td>\n",
       "      <td>...</td>\n",
       "      <td>...</td>\n",
       "      <td>...</td>\n",
       "    </tr>\n",
       "    <tr>\n",
       "      <th>4883</th>\n",
       "      <td>49.000000</td>\n",
       "      <td>9.0</td>\n",
       "      <td>5.0</td>\n",
       "      <td>4.0</td>\n",
       "      <td>2.0</td>\n",
       "      <td>1.0</td>\n",
       "      <td>26576.0</td>\n",
       "    </tr>\n",
       "    <tr>\n",
       "      <th>4884</th>\n",
       "      <td>28.000000</td>\n",
       "      <td>31.0</td>\n",
       "      <td>5.0</td>\n",
       "      <td>3.0</td>\n",
       "      <td>3.0</td>\n",
       "      <td>2.0</td>\n",
       "      <td>21212.0</td>\n",
       "    </tr>\n",
       "    <tr>\n",
       "      <th>4885</th>\n",
       "      <td>52.000000</td>\n",
       "      <td>17.0</td>\n",
       "      <td>4.0</td>\n",
       "      <td>4.0</td>\n",
       "      <td>7.0</td>\n",
       "      <td>3.0</td>\n",
       "      <td>31820.0</td>\n",
       "    </tr>\n",
       "    <tr>\n",
       "      <th>4886</th>\n",
       "      <td>19.000000</td>\n",
       "      <td>16.0</td>\n",
       "      <td>4.0</td>\n",
       "      <td>3.0</td>\n",
       "      <td>3.0</td>\n",
       "      <td>2.0</td>\n",
       "      <td>20289.0</td>\n",
       "    </tr>\n",
       "    <tr>\n",
       "      <th>4887</th>\n",
       "      <td>36.000000</td>\n",
       "      <td>14.0</td>\n",
       "      <td>4.0</td>\n",
       "      <td>4.0</td>\n",
       "      <td>3.0</td>\n",
       "      <td>2.0</td>\n",
       "      <td>24041.0</td>\n",
       "    </tr>\n",
       "  </tbody>\n",
       "</table>\n",
       "<p>4888 rows × 7 columns</p>\n",
       "</div>"
      ],
      "text/plain": [
       "            Age  DurationOfPitch  NumberOfFollowups  PreferredPropertyStar  \\\n",
       "0     41.000000              6.0                3.0                    3.0   \n",
       "1     49.000000             14.0                4.0                    4.0   \n",
       "2     37.000000              8.0                4.0                    3.0   \n",
       "3     33.000000              9.0                3.0                    3.0   \n",
       "4     37.622265              8.0                3.0                    4.0   \n",
       "...         ...              ...                ...                    ...   \n",
       "4883  49.000000              9.0                5.0                    4.0   \n",
       "4884  28.000000             31.0                5.0                    3.0   \n",
       "4885  52.000000             17.0                4.0                    4.0   \n",
       "4886  19.000000             16.0                4.0                    3.0   \n",
       "4887  36.000000             14.0                4.0                    4.0   \n",
       "\n",
       "      NumberOfTrips  NumberOfChildrenVisiting  MonthlyIncome  \n",
       "0               1.0                       0.0        20993.0  \n",
       "1               2.0                       2.0        20130.0  \n",
       "2               7.0                       0.0        17090.0  \n",
       "3               2.0                       1.0        17909.0  \n",
       "4               1.0                       0.0        18468.0  \n",
       "...             ...                       ...            ...  \n",
       "4883            2.0                       1.0        26576.0  \n",
       "4884            3.0                       2.0        21212.0  \n",
       "4885            7.0                       3.0        31820.0  \n",
       "4886            3.0                       2.0        20289.0  \n",
       "4887            3.0                       2.0        24041.0  \n",
       "\n",
       "[4888 rows x 7 columns]"
      ]
     },
     "execution_count": 143,
     "metadata": {},
     "output_type": "execute_result"
    }
   ],
   "source": [
    "result=pd.DataFrame(X,columns=['Age',\n",
    " 'DurationOfPitch',\n",
    " 'NumberOfFollowups',\n",
    " 'PreferredPropertyStar',\n",
    " 'NumberOfTrips',\n",
    " 'NumberOfChildrenVisiting',\n",
    " 'MonthlyIncome'])\n",
    "result # dataframe after mean imputation by sklearn's simple Imputer"
   ]
  },
  {
   "cell_type": "code",
   "execution_count": 144,
   "id": "fdb76137",
   "metadata": {},
   "outputs": [
    {
     "data": {
      "text/plain": [
       "Age                         0.0\n",
       "DurationOfPitch             0.0\n",
       "NumberOfFollowups           0.0\n",
       "PreferredPropertyStar       0.0\n",
       "NumberOfTrips               0.0\n",
       "NumberOfChildrenVisiting    0.0\n",
       "MonthlyIncome               0.0\n",
       "dtype: float64"
      ]
     },
     "execution_count": 144,
     "metadata": {},
     "output_type": "execute_result"
    }
   ],
   "source": [
    "result.isnull().mean() # Checking after imputation"
   ]
  },
  {
   "cell_type": "code",
   "execution_count": 145,
   "id": "ef295079",
   "metadata": {},
   "outputs": [],
   "source": [
    "# The above imputations are applicable for median imputation also."
   ]
  },
  {
   "cell_type": "markdown",
   "id": "bcde5906",
   "metadata": {},
   "source": [
    "Method 3: Replacing missing values in categorical features by the feature's mode."
   ]
  },
  {
   "cell_type": "code",
   "execution_count": 146,
   "id": "228e48b1",
   "metadata": {},
   "outputs": [],
   "source": [
    "data=pd.read_csv('Travel.csv')"
   ]
  },
  {
   "cell_type": "code",
   "execution_count": 147,
   "id": "cec39e98",
   "metadata": {},
   "outputs": [
    {
     "data": {
      "text/plain": [
       "['TypeofContact',\n",
       " 'Occupation',\n",
       " 'Gender',\n",
       " 'ProductPitched',\n",
       " 'MaritalStatus',\n",
       " 'Designation']"
      ]
     },
     "execution_count": 147,
     "metadata": {},
     "output_type": "execute_result"
    }
   ],
   "source": [
    "cat_col=[fea for fea in data.columns if data[fea].dtype =='O'] #segregating categorical and numerical variables \n",
    "cat_col"
   ]
  },
  {
   "cell_type": "code",
   "execution_count": 149,
   "id": "f0a383c2",
   "metadata": {},
   "outputs": [
    {
     "data": {
      "text/html": [
       "<div>\n",
       "<style scoped>\n",
       "    .dataframe tbody tr th:only-of-type {\n",
       "        vertical-align: middle;\n",
       "    }\n",
       "\n",
       "    .dataframe tbody tr th {\n",
       "        vertical-align: top;\n",
       "    }\n",
       "\n",
       "    .dataframe thead th {\n",
       "        text-align: right;\n",
       "    }\n",
       "</style>\n",
       "<table border=\"1\" class=\"dataframe\">\n",
       "  <thead>\n",
       "    <tr style=\"text-align: right;\">\n",
       "      <th></th>\n",
       "      <th>TypeofContact</th>\n",
       "      <th>Occupation</th>\n",
       "      <th>Gender</th>\n",
       "      <th>ProductPitched</th>\n",
       "      <th>MaritalStatus</th>\n",
       "      <th>Designation</th>\n",
       "    </tr>\n",
       "  </thead>\n",
       "  <tbody>\n",
       "    <tr>\n",
       "      <th>0</th>\n",
       "      <td>Self Enquiry</td>\n",
       "      <td>Salaried</td>\n",
       "      <td>Female</td>\n",
       "      <td>Deluxe</td>\n",
       "      <td>Single</td>\n",
       "      <td>Manager</td>\n",
       "    </tr>\n",
       "    <tr>\n",
       "      <th>1</th>\n",
       "      <td>Company Invited</td>\n",
       "      <td>Salaried</td>\n",
       "      <td>Male</td>\n",
       "      <td>Deluxe</td>\n",
       "      <td>Divorced</td>\n",
       "      <td>Manager</td>\n",
       "    </tr>\n",
       "    <tr>\n",
       "      <th>2</th>\n",
       "      <td>Self Enquiry</td>\n",
       "      <td>Free Lancer</td>\n",
       "      <td>Male</td>\n",
       "      <td>Basic</td>\n",
       "      <td>Single</td>\n",
       "      <td>Executive</td>\n",
       "    </tr>\n",
       "    <tr>\n",
       "      <th>3</th>\n",
       "      <td>Company Invited</td>\n",
       "      <td>Salaried</td>\n",
       "      <td>Female</td>\n",
       "      <td>Basic</td>\n",
       "      <td>Divorced</td>\n",
       "      <td>Executive</td>\n",
       "    </tr>\n",
       "    <tr>\n",
       "      <th>4</th>\n",
       "      <td>Self Enquiry</td>\n",
       "      <td>Small Business</td>\n",
       "      <td>Male</td>\n",
       "      <td>Basic</td>\n",
       "      <td>Divorced</td>\n",
       "      <td>Executive</td>\n",
       "    </tr>\n",
       "    <tr>\n",
       "      <th>...</th>\n",
       "      <td>...</td>\n",
       "      <td>...</td>\n",
       "      <td>...</td>\n",
       "      <td>...</td>\n",
       "      <td>...</td>\n",
       "      <td>...</td>\n",
       "    </tr>\n",
       "    <tr>\n",
       "      <th>4883</th>\n",
       "      <td>Self Enquiry</td>\n",
       "      <td>Small Business</td>\n",
       "      <td>Male</td>\n",
       "      <td>Deluxe</td>\n",
       "      <td>Unmarried</td>\n",
       "      <td>Manager</td>\n",
       "    </tr>\n",
       "    <tr>\n",
       "      <th>4884</th>\n",
       "      <td>Company Invited</td>\n",
       "      <td>Salaried</td>\n",
       "      <td>Male</td>\n",
       "      <td>Basic</td>\n",
       "      <td>Single</td>\n",
       "      <td>Executive</td>\n",
       "    </tr>\n",
       "    <tr>\n",
       "      <th>4885</th>\n",
       "      <td>Self Enquiry</td>\n",
       "      <td>Salaried</td>\n",
       "      <td>Female</td>\n",
       "      <td>Standard</td>\n",
       "      <td>Married</td>\n",
       "      <td>Senior Manager</td>\n",
       "    </tr>\n",
       "    <tr>\n",
       "      <th>4886</th>\n",
       "      <td>Self Enquiry</td>\n",
       "      <td>Small Business</td>\n",
       "      <td>Male</td>\n",
       "      <td>Basic</td>\n",
       "      <td>Single</td>\n",
       "      <td>Executive</td>\n",
       "    </tr>\n",
       "    <tr>\n",
       "      <th>4887</th>\n",
       "      <td>Self Enquiry</td>\n",
       "      <td>Salaried</td>\n",
       "      <td>Male</td>\n",
       "      <td>Basic</td>\n",
       "      <td>Unmarried</td>\n",
       "      <td>Executive</td>\n",
       "    </tr>\n",
       "  </tbody>\n",
       "</table>\n",
       "<p>4888 rows × 6 columns</p>\n",
       "</div>"
      ],
      "text/plain": [
       "        TypeofContact      Occupation  Gender ProductPitched MaritalStatus  \\\n",
       "0        Self Enquiry        Salaried  Female         Deluxe        Single   \n",
       "1     Company Invited        Salaried    Male         Deluxe      Divorced   \n",
       "2        Self Enquiry     Free Lancer    Male          Basic        Single   \n",
       "3     Company Invited        Salaried  Female          Basic      Divorced   \n",
       "4        Self Enquiry  Small Business    Male          Basic      Divorced   \n",
       "...               ...             ...     ...            ...           ...   \n",
       "4883     Self Enquiry  Small Business    Male         Deluxe     Unmarried   \n",
       "4884  Company Invited        Salaried    Male          Basic        Single   \n",
       "4885     Self Enquiry        Salaried  Female       Standard       Married   \n",
       "4886     Self Enquiry  Small Business    Male          Basic        Single   \n",
       "4887     Self Enquiry        Salaried    Male          Basic     Unmarried   \n",
       "\n",
       "         Designation  \n",
       "0            Manager  \n",
       "1            Manager  \n",
       "2          Executive  \n",
       "3          Executive  \n",
       "4          Executive  \n",
       "...              ...  \n",
       "4883         Manager  \n",
       "4884       Executive  \n",
       "4885  Senior Manager  \n",
       "4886       Executive  \n",
       "4887       Executive  \n",
       "\n",
       "[4888 rows x 6 columns]"
      ]
     },
     "execution_count": 149,
     "metadata": {},
     "output_type": "execute_result"
    }
   ],
   "source": [
    "X=data[cat_col]\n",
    "X"
   ]
  },
  {
   "cell_type": "code",
   "execution_count": 150,
   "id": "dc52ee5e",
   "metadata": {},
   "outputs": [
    {
     "data": {
      "text/plain": [
       "TypeofContact     0.005115\n",
       "Occupation        0.000000\n",
       "Gender            0.000000\n",
       "ProductPitched    0.000000\n",
       "MaritalStatus     0.000000\n",
       "Designation       0.000000\n",
       "dtype: float64"
      ]
     },
     "execution_count": 150,
     "metadata": {},
     "output_type": "execute_result"
    }
   ],
   "source": [
    "X.isnull().mean() "
   ]
  },
  {
   "cell_type": "code",
   "execution_count": 151,
   "id": "baa8f950",
   "metadata": {},
   "outputs": [],
   "source": [
    "# Only the first feature that is TypeofContact has missing values"
   ]
  },
  {
   "cell_type": "code",
   "execution_count": 152,
   "id": "925e39eb",
   "metadata": {},
   "outputs": [
    {
     "data": {
      "text/html": [
       "<div>\n",
       "<style scoped>\n",
       "    .dataframe tbody tr th:only-of-type {\n",
       "        vertical-align: middle;\n",
       "    }\n",
       "\n",
       "    .dataframe tbody tr th {\n",
       "        vertical-align: top;\n",
       "    }\n",
       "\n",
       "    .dataframe thead th {\n",
       "        text-align: right;\n",
       "    }\n",
       "</style>\n",
       "<table border=\"1\" class=\"dataframe\">\n",
       "  <thead>\n",
       "    <tr style=\"text-align: right;\">\n",
       "      <th></th>\n",
       "      <th>TypeofContact</th>\n",
       "      <th>Occupation</th>\n",
       "      <th>Gender</th>\n",
       "      <th>ProductPitched</th>\n",
       "      <th>MaritalStatus</th>\n",
       "      <th>Designation</th>\n",
       "    </tr>\n",
       "  </thead>\n",
       "  <tbody>\n",
       "    <tr>\n",
       "      <th>0</th>\n",
       "      <td>Self Enquiry</td>\n",
       "      <td>Salaried</td>\n",
       "      <td>Female</td>\n",
       "      <td>Deluxe</td>\n",
       "      <td>Single</td>\n",
       "      <td>Manager</td>\n",
       "    </tr>\n",
       "    <tr>\n",
       "      <th>1</th>\n",
       "      <td>Company Invited</td>\n",
       "      <td>Salaried</td>\n",
       "      <td>Male</td>\n",
       "      <td>Deluxe</td>\n",
       "      <td>Divorced</td>\n",
       "      <td>Manager</td>\n",
       "    </tr>\n",
       "    <tr>\n",
       "      <th>2</th>\n",
       "      <td>Self Enquiry</td>\n",
       "      <td>Free Lancer</td>\n",
       "      <td>Male</td>\n",
       "      <td>Basic</td>\n",
       "      <td>Single</td>\n",
       "      <td>Executive</td>\n",
       "    </tr>\n",
       "    <tr>\n",
       "      <th>3</th>\n",
       "      <td>Company Invited</td>\n",
       "      <td>Salaried</td>\n",
       "      <td>Female</td>\n",
       "      <td>Basic</td>\n",
       "      <td>Divorced</td>\n",
       "      <td>Executive</td>\n",
       "    </tr>\n",
       "    <tr>\n",
       "      <th>4</th>\n",
       "      <td>Self Enquiry</td>\n",
       "      <td>Small Business</td>\n",
       "      <td>Male</td>\n",
       "      <td>Basic</td>\n",
       "      <td>Divorced</td>\n",
       "      <td>Executive</td>\n",
       "    </tr>\n",
       "    <tr>\n",
       "      <th>...</th>\n",
       "      <td>...</td>\n",
       "      <td>...</td>\n",
       "      <td>...</td>\n",
       "      <td>...</td>\n",
       "      <td>...</td>\n",
       "      <td>...</td>\n",
       "    </tr>\n",
       "    <tr>\n",
       "      <th>4883</th>\n",
       "      <td>Self Enquiry</td>\n",
       "      <td>Small Business</td>\n",
       "      <td>Male</td>\n",
       "      <td>Deluxe</td>\n",
       "      <td>Unmarried</td>\n",
       "      <td>Manager</td>\n",
       "    </tr>\n",
       "    <tr>\n",
       "      <th>4884</th>\n",
       "      <td>Company Invited</td>\n",
       "      <td>Salaried</td>\n",
       "      <td>Male</td>\n",
       "      <td>Basic</td>\n",
       "      <td>Single</td>\n",
       "      <td>Executive</td>\n",
       "    </tr>\n",
       "    <tr>\n",
       "      <th>4885</th>\n",
       "      <td>Self Enquiry</td>\n",
       "      <td>Salaried</td>\n",
       "      <td>Female</td>\n",
       "      <td>Standard</td>\n",
       "      <td>Married</td>\n",
       "      <td>Senior Manager</td>\n",
       "    </tr>\n",
       "    <tr>\n",
       "      <th>4886</th>\n",
       "      <td>Self Enquiry</td>\n",
       "      <td>Small Business</td>\n",
       "      <td>Male</td>\n",
       "      <td>Basic</td>\n",
       "      <td>Single</td>\n",
       "      <td>Executive</td>\n",
       "    </tr>\n",
       "    <tr>\n",
       "      <th>4887</th>\n",
       "      <td>Self Enquiry</td>\n",
       "      <td>Salaried</td>\n",
       "      <td>Male</td>\n",
       "      <td>Basic</td>\n",
       "      <td>Unmarried</td>\n",
       "      <td>Executive</td>\n",
       "    </tr>\n",
       "  </tbody>\n",
       "</table>\n",
       "<p>4888 rows × 6 columns</p>\n",
       "</div>"
      ],
      "text/plain": [
       "        TypeofContact      Occupation  Gender ProductPitched MaritalStatus  \\\n",
       "0        Self Enquiry        Salaried  Female         Deluxe        Single   \n",
       "1     Company Invited        Salaried    Male         Deluxe      Divorced   \n",
       "2        Self Enquiry     Free Lancer    Male          Basic        Single   \n",
       "3     Company Invited        Salaried  Female          Basic      Divorced   \n",
       "4        Self Enquiry  Small Business    Male          Basic      Divorced   \n",
       "...               ...             ...     ...            ...           ...   \n",
       "4883     Self Enquiry  Small Business    Male         Deluxe     Unmarried   \n",
       "4884  Company Invited        Salaried    Male          Basic        Single   \n",
       "4885     Self Enquiry        Salaried  Female       Standard       Married   \n",
       "4886     Self Enquiry  Small Business    Male          Basic        Single   \n",
       "4887     Self Enquiry        Salaried    Male          Basic     Unmarried   \n",
       "\n",
       "         Designation  \n",
       "0            Manager  \n",
       "1            Manager  \n",
       "2          Executive  \n",
       "3          Executive  \n",
       "4          Executive  \n",
       "...              ...  \n",
       "4883         Manager  \n",
       "4884       Executive  \n",
       "4885  Senior Manager  \n",
       "4886       Executive  \n",
       "4887       Executive  \n",
       "\n",
       "[4888 rows x 6 columns]"
      ]
     },
     "execution_count": 152,
     "metadata": {},
     "output_type": "execute_result"
    }
   ],
   "source": [
    "value=X['TypeofContact'].mode()[0]\n",
    "X['TypeofContact']=X['TypeofContact'].fillna(value)\n",
    "X"
   ]
  },
  {
   "cell_type": "code",
   "execution_count": 153,
   "id": "c50b8174",
   "metadata": {},
   "outputs": [
    {
     "data": {
      "text/plain": [
       "TypeofContact     0.0\n",
       "Occupation        0.0\n",
       "Gender            0.0\n",
       "ProductPitched    0.0\n",
       "MaritalStatus     0.0\n",
       "Designation       0.0\n",
       "dtype: float64"
      ]
     },
     "execution_count": 153,
     "metadata": {},
     "output_type": "execute_result"
    }
   ],
   "source": [
    "X.isnull().mean() # Checking after imputation, null values of 'TypeofContact' feature is zero."
   ]
  },
  {
   "cell_type": "markdown",
   "id": "008ac711",
   "metadata": {},
   "source": [
    "Imputing using sklearn"
   ]
  },
  {
   "cell_type": "code",
   "execution_count": 154,
   "id": "5241883b",
   "metadata": {},
   "outputs": [
    {
     "data": {
      "text/plain": [
       "TypeofContact     0.005115\n",
       "Occupation        0.000000\n",
       "Gender            0.000000\n",
       "ProductPitched    0.000000\n",
       "MaritalStatus     0.000000\n",
       "Designation       0.000000\n",
       "dtype: float64"
      ]
     },
     "execution_count": 154,
     "metadata": {},
     "output_type": "execute_result"
    }
   ],
   "source": [
    "#Imputing using sklearn\n",
    "X_1=data[cat_col]\n",
    "\n",
    "imputer_1=SimpleImputer(strategy='most_frequent')\n",
    "X_1.isnull().mean()"
   ]
  },
  {
   "cell_type": "code",
   "execution_count": 155,
   "id": "4dddadef",
   "metadata": {},
   "outputs": [
    {
     "data": {
      "text/plain": [
       "array([['Self Enquiry', 'Salaried', 'Female', 'Deluxe', 'Single',\n",
       "        'Manager'],\n",
       "       ['Company Invited', 'Salaried', 'Male', 'Deluxe', 'Divorced',\n",
       "        'Manager'],\n",
       "       ['Self Enquiry', 'Free Lancer', 'Male', 'Basic', 'Single',\n",
       "        'Executive'],\n",
       "       ...,\n",
       "       ['Self Enquiry', 'Salaried', 'Female', 'Standard', 'Married',\n",
       "        'Senior Manager'],\n",
       "       ['Self Enquiry', 'Small Business', 'Male', 'Basic', 'Single',\n",
       "        'Executive'],\n",
       "       ['Self Enquiry', 'Salaried', 'Male', 'Basic', 'Unmarried',\n",
       "        'Executive']], dtype=object)"
      ]
     },
     "execution_count": 155,
     "metadata": {},
     "output_type": "execute_result"
    }
   ],
   "source": [
    "imputer_1.fit(X_1)\n",
    "X_1=imputer_1.transform(X_1)\n",
    "X_1\n"
   ]
  },
  {
   "cell_type": "code",
   "execution_count": 156,
   "id": "f057e17c",
   "metadata": {},
   "outputs": [
    {
     "data": {
      "text/html": [
       "<div>\n",
       "<style scoped>\n",
       "    .dataframe tbody tr th:only-of-type {\n",
       "        vertical-align: middle;\n",
       "    }\n",
       "\n",
       "    .dataframe tbody tr th {\n",
       "        vertical-align: top;\n",
       "    }\n",
       "\n",
       "    .dataframe thead th {\n",
       "        text-align: right;\n",
       "    }\n",
       "</style>\n",
       "<table border=\"1\" class=\"dataframe\">\n",
       "  <thead>\n",
       "    <tr style=\"text-align: right;\">\n",
       "      <th></th>\n",
       "      <th>TypeofContact</th>\n",
       "      <th>Occupation</th>\n",
       "      <th>Gender</th>\n",
       "      <th>ProductPitched</th>\n",
       "      <th>MaritalStatus</th>\n",
       "      <th>Designation</th>\n",
       "    </tr>\n",
       "  </thead>\n",
       "  <tbody>\n",
       "    <tr>\n",
       "      <th>0</th>\n",
       "      <td>Self Enquiry</td>\n",
       "      <td>Salaried</td>\n",
       "      <td>Female</td>\n",
       "      <td>Deluxe</td>\n",
       "      <td>Single</td>\n",
       "      <td>Manager</td>\n",
       "    </tr>\n",
       "    <tr>\n",
       "      <th>1</th>\n",
       "      <td>Company Invited</td>\n",
       "      <td>Salaried</td>\n",
       "      <td>Male</td>\n",
       "      <td>Deluxe</td>\n",
       "      <td>Divorced</td>\n",
       "      <td>Manager</td>\n",
       "    </tr>\n",
       "    <tr>\n",
       "      <th>2</th>\n",
       "      <td>Self Enquiry</td>\n",
       "      <td>Free Lancer</td>\n",
       "      <td>Male</td>\n",
       "      <td>Basic</td>\n",
       "      <td>Single</td>\n",
       "      <td>Executive</td>\n",
       "    </tr>\n",
       "    <tr>\n",
       "      <th>3</th>\n",
       "      <td>Company Invited</td>\n",
       "      <td>Salaried</td>\n",
       "      <td>Female</td>\n",
       "      <td>Basic</td>\n",
       "      <td>Divorced</td>\n",
       "      <td>Executive</td>\n",
       "    </tr>\n",
       "    <tr>\n",
       "      <th>4</th>\n",
       "      <td>Self Enquiry</td>\n",
       "      <td>Small Business</td>\n",
       "      <td>Male</td>\n",
       "      <td>Basic</td>\n",
       "      <td>Divorced</td>\n",
       "      <td>Executive</td>\n",
       "    </tr>\n",
       "    <tr>\n",
       "      <th>...</th>\n",
       "      <td>...</td>\n",
       "      <td>...</td>\n",
       "      <td>...</td>\n",
       "      <td>...</td>\n",
       "      <td>...</td>\n",
       "      <td>...</td>\n",
       "    </tr>\n",
       "    <tr>\n",
       "      <th>4883</th>\n",
       "      <td>Self Enquiry</td>\n",
       "      <td>Small Business</td>\n",
       "      <td>Male</td>\n",
       "      <td>Deluxe</td>\n",
       "      <td>Unmarried</td>\n",
       "      <td>Manager</td>\n",
       "    </tr>\n",
       "    <tr>\n",
       "      <th>4884</th>\n",
       "      <td>Company Invited</td>\n",
       "      <td>Salaried</td>\n",
       "      <td>Male</td>\n",
       "      <td>Basic</td>\n",
       "      <td>Single</td>\n",
       "      <td>Executive</td>\n",
       "    </tr>\n",
       "    <tr>\n",
       "      <th>4885</th>\n",
       "      <td>Self Enquiry</td>\n",
       "      <td>Salaried</td>\n",
       "      <td>Female</td>\n",
       "      <td>Standard</td>\n",
       "      <td>Married</td>\n",
       "      <td>Senior Manager</td>\n",
       "    </tr>\n",
       "    <tr>\n",
       "      <th>4886</th>\n",
       "      <td>Self Enquiry</td>\n",
       "      <td>Small Business</td>\n",
       "      <td>Male</td>\n",
       "      <td>Basic</td>\n",
       "      <td>Single</td>\n",
       "      <td>Executive</td>\n",
       "    </tr>\n",
       "    <tr>\n",
       "      <th>4887</th>\n",
       "      <td>Self Enquiry</td>\n",
       "      <td>Salaried</td>\n",
       "      <td>Male</td>\n",
       "      <td>Basic</td>\n",
       "      <td>Unmarried</td>\n",
       "      <td>Executive</td>\n",
       "    </tr>\n",
       "  </tbody>\n",
       "</table>\n",
       "<p>4888 rows × 6 columns</p>\n",
       "</div>"
      ],
      "text/plain": [
       "        TypeofContact      Occupation  Gender ProductPitched MaritalStatus  \\\n",
       "0        Self Enquiry        Salaried  Female         Deluxe        Single   \n",
       "1     Company Invited        Salaried    Male         Deluxe      Divorced   \n",
       "2        Self Enquiry     Free Lancer    Male          Basic        Single   \n",
       "3     Company Invited        Salaried  Female          Basic      Divorced   \n",
       "4        Self Enquiry  Small Business    Male          Basic      Divorced   \n",
       "...               ...             ...     ...            ...           ...   \n",
       "4883     Self Enquiry  Small Business    Male         Deluxe     Unmarried   \n",
       "4884  Company Invited        Salaried    Male          Basic        Single   \n",
       "4885     Self Enquiry        Salaried  Female       Standard       Married   \n",
       "4886     Self Enquiry  Small Business    Male          Basic        Single   \n",
       "4887     Self Enquiry        Salaried    Male          Basic     Unmarried   \n",
       "\n",
       "         Designation  \n",
       "0            Manager  \n",
       "1            Manager  \n",
       "2          Executive  \n",
       "3          Executive  \n",
       "4          Executive  \n",
       "...              ...  \n",
       "4883         Manager  \n",
       "4884       Executive  \n",
       "4885  Senior Manager  \n",
       "4886       Executive  \n",
       "4887       Executive  \n",
       "\n",
       "[4888 rows x 6 columns]"
      ]
     },
     "execution_count": 156,
     "metadata": {},
     "output_type": "execute_result"
    }
   ],
   "source": [
    "result_1=pd.DataFrame(X_1,columns=['TypeofContact',# converting back to DataFrame from Numpy Array\n",
    " 'Occupation',\n",
    " 'Gender',\n",
    " 'ProductPitched',\n",
    " 'MaritalStatus',\n",
    " 'Designation'])\n",
    "result_1"
   ]
  },
  {
   "cell_type": "code",
   "execution_count": 157,
   "id": "8ce46738",
   "metadata": {},
   "outputs": [
    {
     "data": {
      "text/plain": [
       "TypeofContact     0.0\n",
       "Occupation        0.0\n",
       "Gender            0.0\n",
       "ProductPitched    0.0\n",
       "MaritalStatus     0.0\n",
       "Designation       0.0\n",
       "dtype: float64"
      ]
     },
     "execution_count": 157,
     "metadata": {},
     "output_type": "execute_result"
    }
   ],
   "source": [
    "result_1.isnull().mean() # Checking after imputation"
   ]
  },
  {
   "cell_type": "markdown",
   "id": "027c1bad",
   "metadata": {},
   "source": [
    "Method 4:Replacing Missing Values with an arbitary number"
   ]
  },
  {
   "cell_type": "code",
   "execution_count": 158,
   "id": "4bd15d66",
   "metadata": {},
   "outputs": [],
   "source": [
    "data=pd.read_csv('Travel.csv')\n",
    "num_col=[fea for fea in data.columns if (data[fea].dtype !='O' and data[fea].dtype !=int)]\n",
    "#segregating categorical and numerical variables \n",
    "X=data[num_col]"
   ]
  },
  {
   "cell_type": "code",
   "execution_count": 159,
   "id": "2852f9c4",
   "metadata": {},
   "outputs": [
    {
     "data": {
      "text/plain": [
       "Age                            61.0\n",
       "DurationOfPitch               127.0\n",
       "NumberOfFollowups               6.0\n",
       "PreferredPropertyStar           5.0\n",
       "NumberOfTrips                  22.0\n",
       "NumberOfChildrenVisiting        3.0\n",
       "MonthlyIncome               98678.0\n",
       "dtype: float64"
      ]
     },
     "execution_count": 159,
     "metadata": {},
     "output_type": "execute_result"
    }
   ],
   "source": [
    "X.max()"
   ]
  },
  {
   "cell_type": "code",
   "execution_count": 160,
   "id": "7b4bb8b5",
   "metadata": {},
   "outputs": [
    {
     "data": {
      "text/plain": [
       "Age                         226\n",
       "DurationOfPitch             251\n",
       "NumberOfFollowups            45\n",
       "PreferredPropertyStar        26\n",
       "NumberOfTrips               140\n",
       "NumberOfChildrenVisiting     66\n",
       "MonthlyIncome               233\n",
       "dtype: int64"
      ]
     },
     "execution_count": 160,
     "metadata": {},
     "output_type": "execute_result"
    }
   ],
   "source": [
    "X.isnull().sum()"
   ]
  },
  {
   "cell_type": "code",
   "execution_count": 161,
   "id": "f437fa12",
   "metadata": {},
   "outputs": [],
   "source": [
    "X['Age'].fillna(70,inplace=True) # Replacing by Null values by an arbitary number 70 for Age feature because it is greater than\n",
    "# the max value of Age"
   ]
  },
  {
   "cell_type": "code",
   "execution_count": 162,
   "id": "83acb045",
   "metadata": {},
   "outputs": [
    {
     "data": {
      "text/plain": [
       "Age                           0\n",
       "DurationOfPitch             251\n",
       "NumberOfFollowups            45\n",
       "PreferredPropertyStar        26\n",
       "NumberOfTrips               140\n",
       "NumberOfChildrenVisiting     66\n",
       "MonthlyIncome               233\n",
       "dtype: int64"
      ]
     },
     "execution_count": 162,
     "metadata": {},
     "output_type": "execute_result"
    }
   ],
   "source": [
    "X.isnull().sum() # Checking after imputation"
   ]
  },
  {
   "cell_type": "code",
   "execution_count": 163,
   "id": "09eac929",
   "metadata": {},
   "outputs": [],
   "source": [
    "# Using sklearn\n",
    "imputer=SimpleImputer(strategy='constant',fill_value=70)\n",
    "data=pd.read_csv('Travel.csv')\n",
    "X_1=data['Age'].to_numpy() # Converting to Numpy array\n",
    "X_1=X_1.reshape(-1, 1)\n"
   ]
  },
  {
   "cell_type": "code",
   "execution_count": 164,
   "id": "cff62cc5",
   "metadata": {},
   "outputs": [
    {
     "data": {
      "text/html": [
       "<style>#sk-container-id-9 {color: black;background-color: white;}#sk-container-id-9 pre{padding: 0;}#sk-container-id-9 div.sk-toggleable {background-color: white;}#sk-container-id-9 label.sk-toggleable__label {cursor: pointer;display: block;width: 100%;margin-bottom: 0;padding: 0.3em;box-sizing: border-box;text-align: center;}#sk-container-id-9 label.sk-toggleable__label-arrow:before {content: \"▸\";float: left;margin-right: 0.25em;color: #696969;}#sk-container-id-9 label.sk-toggleable__label-arrow:hover:before {color: black;}#sk-container-id-9 div.sk-estimator:hover label.sk-toggleable__label-arrow:before {color: black;}#sk-container-id-9 div.sk-toggleable__content {max-height: 0;max-width: 0;overflow: hidden;text-align: left;background-color: #f0f8ff;}#sk-container-id-9 div.sk-toggleable__content pre {margin: 0.2em;color: black;border-radius: 0.25em;background-color: #f0f8ff;}#sk-container-id-9 input.sk-toggleable__control:checked~div.sk-toggleable__content {max-height: 200px;max-width: 100%;overflow: auto;}#sk-container-id-9 input.sk-toggleable__control:checked~label.sk-toggleable__label-arrow:before {content: \"▾\";}#sk-container-id-9 div.sk-estimator input.sk-toggleable__control:checked~label.sk-toggleable__label {background-color: #d4ebff;}#sk-container-id-9 div.sk-label input.sk-toggleable__control:checked~label.sk-toggleable__label {background-color: #d4ebff;}#sk-container-id-9 input.sk-hidden--visually {border: 0;clip: rect(1px 1px 1px 1px);clip: rect(1px, 1px, 1px, 1px);height: 1px;margin: -1px;overflow: hidden;padding: 0;position: absolute;width: 1px;}#sk-container-id-9 div.sk-estimator {font-family: monospace;background-color: #f0f8ff;border: 1px dotted black;border-radius: 0.25em;box-sizing: border-box;margin-bottom: 0.5em;}#sk-container-id-9 div.sk-estimator:hover {background-color: #d4ebff;}#sk-container-id-9 div.sk-parallel-item::after {content: \"\";width: 100%;border-bottom: 1px solid gray;flex-grow: 1;}#sk-container-id-9 div.sk-label:hover label.sk-toggleable__label {background-color: #d4ebff;}#sk-container-id-9 div.sk-serial::before {content: \"\";position: absolute;border-left: 1px solid gray;box-sizing: border-box;top: 0;bottom: 0;left: 50%;z-index: 0;}#sk-container-id-9 div.sk-serial {display: flex;flex-direction: column;align-items: center;background-color: white;padding-right: 0.2em;padding-left: 0.2em;position: relative;}#sk-container-id-9 div.sk-item {position: relative;z-index: 1;}#sk-container-id-9 div.sk-parallel {display: flex;align-items: stretch;justify-content: center;background-color: white;position: relative;}#sk-container-id-9 div.sk-item::before, #sk-container-id-9 div.sk-parallel-item::before {content: \"\";position: absolute;border-left: 1px solid gray;box-sizing: border-box;top: 0;bottom: 0;left: 50%;z-index: -1;}#sk-container-id-9 div.sk-parallel-item {display: flex;flex-direction: column;z-index: 1;position: relative;background-color: white;}#sk-container-id-9 div.sk-parallel-item:first-child::after {align-self: flex-end;width: 50%;}#sk-container-id-9 div.sk-parallel-item:last-child::after {align-self: flex-start;width: 50%;}#sk-container-id-9 div.sk-parallel-item:only-child::after {width: 0;}#sk-container-id-9 div.sk-dashed-wrapped {border: 1px dashed gray;margin: 0 0.4em 0.5em 0.4em;box-sizing: border-box;padding-bottom: 0.4em;background-color: white;}#sk-container-id-9 div.sk-label label {font-family: monospace;font-weight: bold;display: inline-block;line-height: 1.2em;}#sk-container-id-9 div.sk-label-container {text-align: center;}#sk-container-id-9 div.sk-container {/* jupyter's `normalize.less` sets `[hidden] { display: none; }` but bootstrap.min.css set `[hidden] { display: none !important; }` so we also need the `!important` here to be able to override the default hidden behavior on the sphinx rendered scikit-learn.org. See: https://github.com/scikit-learn/scikit-learn/issues/21755 */display: inline-block !important;position: relative;}#sk-container-id-9 div.sk-text-repr-fallback {display: none;}</style><div id=\"sk-container-id-9\" class=\"sk-top-container\"><div class=\"sk-text-repr-fallback\"><pre>SimpleImputer(fill_value=70, strategy=&#x27;constant&#x27;)</pre><b>In a Jupyter environment, please rerun this cell to show the HTML representation or trust the notebook. <br />On GitHub, the HTML representation is unable to render, please try loading this page with nbviewer.org.</b></div><div class=\"sk-container\" hidden><div class=\"sk-item\"><div class=\"sk-estimator sk-toggleable\"><input class=\"sk-toggleable__control sk-hidden--visually\" id=\"sk-estimator-id-9\" type=\"checkbox\" checked><label for=\"sk-estimator-id-9\" class=\"sk-toggleable__label sk-toggleable__label-arrow\">SimpleImputer</label><div class=\"sk-toggleable__content\"><pre>SimpleImputer(fill_value=70, strategy=&#x27;constant&#x27;)</pre></div></div></div></div></div>"
      ],
      "text/plain": [
       "SimpleImputer(fill_value=70, strategy='constant')"
      ]
     },
     "execution_count": 164,
     "metadata": {},
     "output_type": "execute_result"
    }
   ],
   "source": [
    "imputer.fit(X_1)\n"
   ]
  },
  {
   "cell_type": "code",
   "execution_count": 165,
   "id": "474eefdd",
   "metadata": {},
   "outputs": [],
   "source": [
    "X_1=imputer.transform(X_1)"
   ]
  },
  {
   "cell_type": "code",
   "execution_count": 166,
   "id": "03ec665c",
   "metadata": {},
   "outputs": [
    {
     "data": {
      "text/plain": [
       "Age    0\n",
       "dtype: int64"
      ]
     },
     "execution_count": 166,
     "metadata": {},
     "output_type": "execute_result"
    }
   ],
   "source": [
    "result_1=pd.DataFrame(X_1,columns=['Age'])# converting back to DataFrame from Numpy Array\n",
    " \n",
    "result_1.isnull().sum() # checking after Imputation"
   ]
  },
  {
   "cell_type": "code",
   "execution_count": 168,
   "id": "1f98e391",
   "metadata": {},
   "outputs": [
    {
     "data": {
      "text/html": [
       "<div>\n",
       "<style scoped>\n",
       "    .dataframe tbody tr th:only-of-type {\n",
       "        vertical-align: middle;\n",
       "    }\n",
       "\n",
       "    .dataframe tbody tr th {\n",
       "        vertical-align: top;\n",
       "    }\n",
       "\n",
       "    .dataframe thead th {\n",
       "        text-align: right;\n",
       "    }\n",
       "</style>\n",
       "<table border=\"1\" class=\"dataframe\">\n",
       "  <thead>\n",
       "    <tr style=\"text-align: right;\">\n",
       "      <th></th>\n",
       "      <th>Age</th>\n",
       "    </tr>\n",
       "  </thead>\n",
       "  <tbody>\n",
       "    <tr>\n",
       "      <th>0</th>\n",
       "      <td>41.0</td>\n",
       "    </tr>\n",
       "    <tr>\n",
       "      <th>1</th>\n",
       "      <td>49.0</td>\n",
       "    </tr>\n",
       "    <tr>\n",
       "      <th>2</th>\n",
       "      <td>37.0</td>\n",
       "    </tr>\n",
       "    <tr>\n",
       "      <th>3</th>\n",
       "      <td>33.0</td>\n",
       "    </tr>\n",
       "    <tr>\n",
       "      <th>4</th>\n",
       "      <td>70.0</td>\n",
       "    </tr>\n",
       "    <tr>\n",
       "      <th>...</th>\n",
       "      <td>...</td>\n",
       "    </tr>\n",
       "    <tr>\n",
       "      <th>4883</th>\n",
       "      <td>49.0</td>\n",
       "    </tr>\n",
       "    <tr>\n",
       "      <th>4884</th>\n",
       "      <td>28.0</td>\n",
       "    </tr>\n",
       "    <tr>\n",
       "      <th>4885</th>\n",
       "      <td>52.0</td>\n",
       "    </tr>\n",
       "    <tr>\n",
       "      <th>4886</th>\n",
       "      <td>19.0</td>\n",
       "    </tr>\n",
       "    <tr>\n",
       "      <th>4887</th>\n",
       "      <td>36.0</td>\n",
       "    </tr>\n",
       "  </tbody>\n",
       "</table>\n",
       "<p>4888 rows × 1 columns</p>\n",
       "</div>"
      ],
      "text/plain": [
       "       Age\n",
       "0     41.0\n",
       "1     49.0\n",
       "2     37.0\n",
       "3     33.0\n",
       "4     70.0\n",
       "...    ...\n",
       "4883  49.0\n",
       "4884  28.0\n",
       "4885  52.0\n",
       "4886  19.0\n",
       "4887  36.0\n",
       "\n",
       "[4888 rows x 1 columns]"
      ]
     },
     "execution_count": 168,
     "metadata": {},
     "output_type": "execute_result"
    }
   ],
   "source": [
    "result_1"
   ]
  },
  {
   "cell_type": "markdown",
   "id": "249fd520",
   "metadata": {},
   "source": [
    "Method 5: Replacing Missing Values in Categorical Variables"
   ]
  },
  {
   "cell_type": "code",
   "execution_count": 169,
   "id": "6b5d8278",
   "metadata": {},
   "outputs": [
    {
     "data": {
      "text/plain": [
       "TypeofContact     25\n",
       "Occupation         0\n",
       "Gender             0\n",
       "ProductPitched     0\n",
       "MaritalStatus      0\n",
       "Designation        0\n",
       "dtype: int64"
      ]
     },
     "execution_count": 169,
     "metadata": {},
     "output_type": "execute_result"
    }
   ],
   "source": [
    "data=pd.read_csv('Travel.csv')\n",
    "X=data[cat_col] # We would replace missing values with a string \"Missing\"\n",
    "X.isnull().sum()"
   ]
  },
  {
   "cell_type": "code",
   "execution_count": 170,
   "id": "ca63bec0",
   "metadata": {},
   "outputs": [],
   "source": [
    "for var in cat_col:\n",
    "    X[var].fillna('Missing',inplace=True)"
   ]
  },
  {
   "cell_type": "code",
   "execution_count": 171,
   "id": "d5c79939",
   "metadata": {},
   "outputs": [
    {
     "data": {
      "text/plain": [
       "TypeofContact     0\n",
       "Occupation        0\n",
       "Gender            0\n",
       "ProductPitched    0\n",
       "MaritalStatus     0\n",
       "Designation       0\n",
       "dtype: int64"
      ]
     },
     "execution_count": 171,
     "metadata": {},
     "output_type": "execute_result"
    }
   ],
   "source": [
    "X.isnull().sum() # Checking after Imputation"
   ]
  },
  {
   "cell_type": "code",
   "execution_count": 172,
   "id": "f2d9d0d7",
   "metadata": {},
   "outputs": [
    {
     "data": {
      "text/html": [
       "<style>#sk-container-id-10 {color: black;background-color: white;}#sk-container-id-10 pre{padding: 0;}#sk-container-id-10 div.sk-toggleable {background-color: white;}#sk-container-id-10 label.sk-toggleable__label {cursor: pointer;display: block;width: 100%;margin-bottom: 0;padding: 0.3em;box-sizing: border-box;text-align: center;}#sk-container-id-10 label.sk-toggleable__label-arrow:before {content: \"▸\";float: left;margin-right: 0.25em;color: #696969;}#sk-container-id-10 label.sk-toggleable__label-arrow:hover:before {color: black;}#sk-container-id-10 div.sk-estimator:hover label.sk-toggleable__label-arrow:before {color: black;}#sk-container-id-10 div.sk-toggleable__content {max-height: 0;max-width: 0;overflow: hidden;text-align: left;background-color: #f0f8ff;}#sk-container-id-10 div.sk-toggleable__content pre {margin: 0.2em;color: black;border-radius: 0.25em;background-color: #f0f8ff;}#sk-container-id-10 input.sk-toggleable__control:checked~div.sk-toggleable__content {max-height: 200px;max-width: 100%;overflow: auto;}#sk-container-id-10 input.sk-toggleable__control:checked~label.sk-toggleable__label-arrow:before {content: \"▾\";}#sk-container-id-10 div.sk-estimator input.sk-toggleable__control:checked~label.sk-toggleable__label {background-color: #d4ebff;}#sk-container-id-10 div.sk-label input.sk-toggleable__control:checked~label.sk-toggleable__label {background-color: #d4ebff;}#sk-container-id-10 input.sk-hidden--visually {border: 0;clip: rect(1px 1px 1px 1px);clip: rect(1px, 1px, 1px, 1px);height: 1px;margin: -1px;overflow: hidden;padding: 0;position: absolute;width: 1px;}#sk-container-id-10 div.sk-estimator {font-family: monospace;background-color: #f0f8ff;border: 1px dotted black;border-radius: 0.25em;box-sizing: border-box;margin-bottom: 0.5em;}#sk-container-id-10 div.sk-estimator:hover {background-color: #d4ebff;}#sk-container-id-10 div.sk-parallel-item::after {content: \"\";width: 100%;border-bottom: 1px solid gray;flex-grow: 1;}#sk-container-id-10 div.sk-label:hover label.sk-toggleable__label {background-color: #d4ebff;}#sk-container-id-10 div.sk-serial::before {content: \"\";position: absolute;border-left: 1px solid gray;box-sizing: border-box;top: 0;bottom: 0;left: 50%;z-index: 0;}#sk-container-id-10 div.sk-serial {display: flex;flex-direction: column;align-items: center;background-color: white;padding-right: 0.2em;padding-left: 0.2em;position: relative;}#sk-container-id-10 div.sk-item {position: relative;z-index: 1;}#sk-container-id-10 div.sk-parallel {display: flex;align-items: stretch;justify-content: center;background-color: white;position: relative;}#sk-container-id-10 div.sk-item::before, #sk-container-id-10 div.sk-parallel-item::before {content: \"\";position: absolute;border-left: 1px solid gray;box-sizing: border-box;top: 0;bottom: 0;left: 50%;z-index: -1;}#sk-container-id-10 div.sk-parallel-item {display: flex;flex-direction: column;z-index: 1;position: relative;background-color: white;}#sk-container-id-10 div.sk-parallel-item:first-child::after {align-self: flex-end;width: 50%;}#sk-container-id-10 div.sk-parallel-item:last-child::after {align-self: flex-start;width: 50%;}#sk-container-id-10 div.sk-parallel-item:only-child::after {width: 0;}#sk-container-id-10 div.sk-dashed-wrapped {border: 1px dashed gray;margin: 0 0.4em 0.5em 0.4em;box-sizing: border-box;padding-bottom: 0.4em;background-color: white;}#sk-container-id-10 div.sk-label label {font-family: monospace;font-weight: bold;display: inline-block;line-height: 1.2em;}#sk-container-id-10 div.sk-label-container {text-align: center;}#sk-container-id-10 div.sk-container {/* jupyter's `normalize.less` sets `[hidden] { display: none; }` but bootstrap.min.css set `[hidden] { display: none !important; }` so we also need the `!important` here to be able to override the default hidden behavior on the sphinx rendered scikit-learn.org. See: https://github.com/scikit-learn/scikit-learn/issues/21755 */display: inline-block !important;position: relative;}#sk-container-id-10 div.sk-text-repr-fallback {display: none;}</style><div id=\"sk-container-id-10\" class=\"sk-top-container\"><div class=\"sk-text-repr-fallback\"><pre>SimpleImputer(fill_value=&#x27;Missing&#x27;, strategy=&#x27;constant&#x27;)</pre><b>In a Jupyter environment, please rerun this cell to show the HTML representation or trust the notebook. <br />On GitHub, the HTML representation is unable to render, please try loading this page with nbviewer.org.</b></div><div class=\"sk-container\" hidden><div class=\"sk-item\"><div class=\"sk-estimator sk-toggleable\"><input class=\"sk-toggleable__control sk-hidden--visually\" id=\"sk-estimator-id-10\" type=\"checkbox\" checked><label for=\"sk-estimator-id-10\" class=\"sk-toggleable__label sk-toggleable__label-arrow\">SimpleImputer</label><div class=\"sk-toggleable__content\"><pre>SimpleImputer(fill_value=&#x27;Missing&#x27;, strategy=&#x27;constant&#x27;)</pre></div></div></div></div></div>"
      ],
      "text/plain": [
       "SimpleImputer(fill_value='Missing', strategy='constant')"
      ]
     },
     "execution_count": 172,
     "metadata": {},
     "output_type": "execute_result"
    }
   ],
   "source": [
    "# Using sklearn\n",
    "imputer=SimpleImputer(strategy='constant',fill_value='Missing')\n",
    "data=pd.read_csv('Travel.csv')\n",
    "X=data[cat_col]\n",
    "imputer.fit(X)"
   ]
  },
  {
   "cell_type": "code",
   "execution_count": 173,
   "id": "1ca36f46",
   "metadata": {},
   "outputs": [],
   "source": [
    "X=imputer.transform(X)"
   ]
  },
  {
   "cell_type": "code",
   "execution_count": 174,
   "id": "c1aa2014",
   "metadata": {},
   "outputs": [
    {
     "data": {
      "text/plain": [
       "array([['Self Enquiry', 'Salaried', 'Female', 'Deluxe', 'Single',\n",
       "        'Manager'],\n",
       "       ['Company Invited', 'Salaried', 'Male', 'Deluxe', 'Divorced',\n",
       "        'Manager'],\n",
       "       ['Self Enquiry', 'Free Lancer', 'Male', 'Basic', 'Single',\n",
       "        'Executive'],\n",
       "       ...,\n",
       "       ['Self Enquiry', 'Salaried', 'Female', 'Standard', 'Married',\n",
       "        'Senior Manager'],\n",
       "       ['Self Enquiry', 'Small Business', 'Male', 'Basic', 'Single',\n",
       "        'Executive'],\n",
       "       ['Self Enquiry', 'Salaried', 'Male', 'Basic', 'Unmarried',\n",
       "        'Executive']], dtype=object)"
      ]
     },
     "execution_count": 174,
     "metadata": {},
     "output_type": "execute_result"
    }
   ],
   "source": [
    "X"
   ]
  },
  {
   "cell_type": "code",
   "execution_count": 175,
   "id": "18520af0",
   "metadata": {},
   "outputs": [
    {
     "data": {
      "text/plain": [
       "0    0\n",
       "1    0\n",
       "2    0\n",
       "3    0\n",
       "4    0\n",
       "5    0\n",
       "dtype: int64"
      ]
     },
     "execution_count": 175,
     "metadata": {},
     "output_type": "execute_result"
    }
   ],
   "source": [
    "result_1=pd.DataFrame(X)# converting back to DataFrame from Numpy Array\n",
    " \n",
    "result_1.isnull().sum() # Checking after Imputation"
   ]
  },
  {
   "cell_type": "markdown",
   "id": "eb84d57e",
   "metadata": {},
   "source": [
    "Method 6:\n",
    "\n",
    "Replacing missing values with a value at the end of the distribution\n",
    "\n",
    "\n",
    "Replacing missing values with a value at the end of the distribution, is equivalent to replacing with an arbitary value manually. But in this case we do it by automatically selecting as those at the very end of the variable distribution.\n",
    "As per the IQR proximity rule,missing values are replaced with q3+1.5(IQR) at the right tail or by q1-1.5(IQR) at the left tail."
   ]
  },
  {
   "cell_type": "code",
   "execution_count": 176,
   "id": "0ef62e64",
   "metadata": {},
   "outputs": [
    {
     "data": {
      "text/plain": [
       "Age                         226\n",
       "DurationOfPitch             251\n",
       "NumberOfFollowups            45\n",
       "PreferredPropertyStar        26\n",
       "NumberOfTrips               140\n",
       "NumberOfChildrenVisiting     66\n",
       "MonthlyIncome               233\n",
       "dtype: int64"
      ]
     },
     "execution_count": 176,
     "metadata": {},
     "output_type": "execute_result"
    }
   ],
   "source": [
    "X=data[num_col]\n",
    "X.isnull().sum()"
   ]
  },
  {
   "cell_type": "code",
   "execution_count": 177,
   "id": "9009e66c",
   "metadata": {},
   "outputs": [],
   "source": [
    "for var in num_col:\n",
    "    IQR =X[var].quantile(0.75)-X[var].quantile(0.25)\n",
    "    value=X[var].quantile(0.75)+(1.5*IQR)\n",
    "    X[var]=X[var].fillna(value)"
   ]
  },
  {
   "cell_type": "code",
   "execution_count": 178,
   "id": "7c48345a",
   "metadata": {},
   "outputs": [
    {
     "data": {
      "text/html": [
       "<div>\n",
       "<style scoped>\n",
       "    .dataframe tbody tr th:only-of-type {\n",
       "        vertical-align: middle;\n",
       "    }\n",
       "\n",
       "    .dataframe tbody tr th {\n",
       "        vertical-align: top;\n",
       "    }\n",
       "\n",
       "    .dataframe thead th {\n",
       "        text-align: right;\n",
       "    }\n",
       "</style>\n",
       "<table border=\"1\" class=\"dataframe\">\n",
       "  <thead>\n",
       "    <tr style=\"text-align: right;\">\n",
       "      <th></th>\n",
       "      <th>Age</th>\n",
       "      <th>DurationOfPitch</th>\n",
       "      <th>NumberOfFollowups</th>\n",
       "      <th>PreferredPropertyStar</th>\n",
       "      <th>NumberOfTrips</th>\n",
       "      <th>NumberOfChildrenVisiting</th>\n",
       "      <th>MonthlyIncome</th>\n",
       "    </tr>\n",
       "  </thead>\n",
       "  <tbody>\n",
       "    <tr>\n",
       "      <th>0</th>\n",
       "      <td>41.0</td>\n",
       "      <td>6.0</td>\n",
       "      <td>3.0</td>\n",
       "      <td>3.0</td>\n",
       "      <td>1.0</td>\n",
       "      <td>0.0</td>\n",
       "      <td>20993.0</td>\n",
       "    </tr>\n",
       "    <tr>\n",
       "      <th>1</th>\n",
       "      <td>49.0</td>\n",
       "      <td>14.0</td>\n",
       "      <td>4.0</td>\n",
       "      <td>4.0</td>\n",
       "      <td>2.0</td>\n",
       "      <td>2.0</td>\n",
       "      <td>20130.0</td>\n",
       "    </tr>\n",
       "    <tr>\n",
       "      <th>2</th>\n",
       "      <td>37.0</td>\n",
       "      <td>8.0</td>\n",
       "      <td>4.0</td>\n",
       "      <td>3.0</td>\n",
       "      <td>7.0</td>\n",
       "      <td>0.0</td>\n",
       "      <td>17090.0</td>\n",
       "    </tr>\n",
       "    <tr>\n",
       "      <th>3</th>\n",
       "      <td>33.0</td>\n",
       "      <td>9.0</td>\n",
       "      <td>3.0</td>\n",
       "      <td>3.0</td>\n",
       "      <td>2.0</td>\n",
       "      <td>1.0</td>\n",
       "      <td>17909.0</td>\n",
       "    </tr>\n",
       "    <tr>\n",
       "      <th>4</th>\n",
       "      <td>63.5</td>\n",
       "      <td>8.0</td>\n",
       "      <td>3.0</td>\n",
       "      <td>4.0</td>\n",
       "      <td>1.0</td>\n",
       "      <td>0.0</td>\n",
       "      <td>18468.0</td>\n",
       "    </tr>\n",
       "    <tr>\n",
       "      <th>...</th>\n",
       "      <td>...</td>\n",
       "      <td>...</td>\n",
       "      <td>...</td>\n",
       "      <td>...</td>\n",
       "      <td>...</td>\n",
       "      <td>...</td>\n",
       "      <td>...</td>\n",
       "    </tr>\n",
       "    <tr>\n",
       "      <th>4883</th>\n",
       "      <td>49.0</td>\n",
       "      <td>9.0</td>\n",
       "      <td>5.0</td>\n",
       "      <td>4.0</td>\n",
       "      <td>2.0</td>\n",
       "      <td>1.0</td>\n",
       "      <td>26576.0</td>\n",
       "    </tr>\n",
       "    <tr>\n",
       "      <th>4884</th>\n",
       "      <td>28.0</td>\n",
       "      <td>31.0</td>\n",
       "      <td>5.0</td>\n",
       "      <td>3.0</td>\n",
       "      <td>3.0</td>\n",
       "      <td>2.0</td>\n",
       "      <td>21212.0</td>\n",
       "    </tr>\n",
       "    <tr>\n",
       "      <th>4885</th>\n",
       "      <td>52.0</td>\n",
       "      <td>17.0</td>\n",
       "      <td>4.0</td>\n",
       "      <td>4.0</td>\n",
       "      <td>7.0</td>\n",
       "      <td>3.0</td>\n",
       "      <td>31820.0</td>\n",
       "    </tr>\n",
       "    <tr>\n",
       "      <th>4886</th>\n",
       "      <td>19.0</td>\n",
       "      <td>16.0</td>\n",
       "      <td>4.0</td>\n",
       "      <td>3.0</td>\n",
       "      <td>3.0</td>\n",
       "      <td>2.0</td>\n",
       "      <td>20289.0</td>\n",
       "    </tr>\n",
       "    <tr>\n",
       "      <th>4887</th>\n",
       "      <td>36.0</td>\n",
       "      <td>14.0</td>\n",
       "      <td>4.0</td>\n",
       "      <td>4.0</td>\n",
       "      <td>3.0</td>\n",
       "      <td>2.0</td>\n",
       "      <td>24041.0</td>\n",
       "    </tr>\n",
       "  </tbody>\n",
       "</table>\n",
       "<p>4888 rows × 7 columns</p>\n",
       "</div>"
      ],
      "text/plain": [
       "       Age  DurationOfPitch  NumberOfFollowups  PreferredPropertyStar  \\\n",
       "0     41.0              6.0                3.0                    3.0   \n",
       "1     49.0             14.0                4.0                    4.0   \n",
       "2     37.0              8.0                4.0                    3.0   \n",
       "3     33.0              9.0                3.0                    3.0   \n",
       "4     63.5              8.0                3.0                    4.0   \n",
       "...    ...              ...                ...                    ...   \n",
       "4883  49.0              9.0                5.0                    4.0   \n",
       "4884  28.0             31.0                5.0                    3.0   \n",
       "4885  52.0             17.0                4.0                    4.0   \n",
       "4886  19.0             16.0                4.0                    3.0   \n",
       "4887  36.0             14.0                4.0                    4.0   \n",
       "\n",
       "      NumberOfTrips  NumberOfChildrenVisiting  MonthlyIncome  \n",
       "0               1.0                       0.0        20993.0  \n",
       "1               2.0                       2.0        20130.0  \n",
       "2               7.0                       0.0        17090.0  \n",
       "3               2.0                       1.0        17909.0  \n",
       "4               1.0                       0.0        18468.0  \n",
       "...             ...                       ...            ...  \n",
       "4883            2.0                       1.0        26576.0  \n",
       "4884            3.0                       2.0        21212.0  \n",
       "4885            7.0                       3.0        31820.0  \n",
       "4886            3.0                       2.0        20289.0  \n",
       "4887            3.0                       2.0        24041.0  \n",
       "\n",
       "[4888 rows x 7 columns]"
      ]
     },
     "execution_count": 178,
     "metadata": {},
     "output_type": "execute_result"
    }
   ],
   "source": [
    "X"
   ]
  },
  {
   "cell_type": "code",
   "execution_count": 179,
   "id": "ea63dead",
   "metadata": {},
   "outputs": [
    {
     "data": {
      "text/plain": [
       "Age                         0\n",
       "DurationOfPitch             0\n",
       "NumberOfFollowups           0\n",
       "PreferredPropertyStar       0\n",
       "NumberOfTrips               0\n",
       "NumberOfChildrenVisiting    0\n",
       "MonthlyIncome               0\n",
       "dtype: int64"
      ]
     },
     "execution_count": 179,
     "metadata": {},
     "output_type": "execute_result"
    }
   ],
   "source": [
    "X.isnull().sum()# Checking after imputation"
   ]
  },
  {
   "cell_type": "code",
   "execution_count": 180,
   "id": "1baff647",
   "metadata": {},
   "outputs": [],
   "source": [
    "# Doing the same with feature Engine\n",
    "X=data[num_col]\n",
    "\n",
    "import feature_engine\n",
    "from feature_engine.imputation import EndTailImputer\n"
   ]
  },
  {
   "cell_type": "code",
   "execution_count": 181,
   "id": "739f5a37",
   "metadata": {},
   "outputs": [
    {
     "data": {
      "text/html": [
       "<style>#sk-container-id-11 {color: black;background-color: white;}#sk-container-id-11 pre{padding: 0;}#sk-container-id-11 div.sk-toggleable {background-color: white;}#sk-container-id-11 label.sk-toggleable__label {cursor: pointer;display: block;width: 100%;margin-bottom: 0;padding: 0.3em;box-sizing: border-box;text-align: center;}#sk-container-id-11 label.sk-toggleable__label-arrow:before {content: \"▸\";float: left;margin-right: 0.25em;color: #696969;}#sk-container-id-11 label.sk-toggleable__label-arrow:hover:before {color: black;}#sk-container-id-11 div.sk-estimator:hover label.sk-toggleable__label-arrow:before {color: black;}#sk-container-id-11 div.sk-toggleable__content {max-height: 0;max-width: 0;overflow: hidden;text-align: left;background-color: #f0f8ff;}#sk-container-id-11 div.sk-toggleable__content pre {margin: 0.2em;color: black;border-radius: 0.25em;background-color: #f0f8ff;}#sk-container-id-11 input.sk-toggleable__control:checked~div.sk-toggleable__content {max-height: 200px;max-width: 100%;overflow: auto;}#sk-container-id-11 input.sk-toggleable__control:checked~label.sk-toggleable__label-arrow:before {content: \"▾\";}#sk-container-id-11 div.sk-estimator input.sk-toggleable__control:checked~label.sk-toggleable__label {background-color: #d4ebff;}#sk-container-id-11 div.sk-label input.sk-toggleable__control:checked~label.sk-toggleable__label {background-color: #d4ebff;}#sk-container-id-11 input.sk-hidden--visually {border: 0;clip: rect(1px 1px 1px 1px);clip: rect(1px, 1px, 1px, 1px);height: 1px;margin: -1px;overflow: hidden;padding: 0;position: absolute;width: 1px;}#sk-container-id-11 div.sk-estimator {font-family: monospace;background-color: #f0f8ff;border: 1px dotted black;border-radius: 0.25em;box-sizing: border-box;margin-bottom: 0.5em;}#sk-container-id-11 div.sk-estimator:hover {background-color: #d4ebff;}#sk-container-id-11 div.sk-parallel-item::after {content: \"\";width: 100%;border-bottom: 1px solid gray;flex-grow: 1;}#sk-container-id-11 div.sk-label:hover label.sk-toggleable__label {background-color: #d4ebff;}#sk-container-id-11 div.sk-serial::before {content: \"\";position: absolute;border-left: 1px solid gray;box-sizing: border-box;top: 0;bottom: 0;left: 50%;z-index: 0;}#sk-container-id-11 div.sk-serial {display: flex;flex-direction: column;align-items: center;background-color: white;padding-right: 0.2em;padding-left: 0.2em;position: relative;}#sk-container-id-11 div.sk-item {position: relative;z-index: 1;}#sk-container-id-11 div.sk-parallel {display: flex;align-items: stretch;justify-content: center;background-color: white;position: relative;}#sk-container-id-11 div.sk-item::before, #sk-container-id-11 div.sk-parallel-item::before {content: \"\";position: absolute;border-left: 1px solid gray;box-sizing: border-box;top: 0;bottom: 0;left: 50%;z-index: -1;}#sk-container-id-11 div.sk-parallel-item {display: flex;flex-direction: column;z-index: 1;position: relative;background-color: white;}#sk-container-id-11 div.sk-parallel-item:first-child::after {align-self: flex-end;width: 50%;}#sk-container-id-11 div.sk-parallel-item:last-child::after {align-self: flex-start;width: 50%;}#sk-container-id-11 div.sk-parallel-item:only-child::after {width: 0;}#sk-container-id-11 div.sk-dashed-wrapped {border: 1px dashed gray;margin: 0 0.4em 0.5em 0.4em;box-sizing: border-box;padding-bottom: 0.4em;background-color: white;}#sk-container-id-11 div.sk-label label {font-family: monospace;font-weight: bold;display: inline-block;line-height: 1.2em;}#sk-container-id-11 div.sk-label-container {text-align: center;}#sk-container-id-11 div.sk-container {/* jupyter's `normalize.less` sets `[hidden] { display: none; }` but bootstrap.min.css set `[hidden] { display: none !important; }` so we also need the `!important` here to be able to override the default hidden behavior on the sphinx rendered scikit-learn.org. See: https://github.com/scikit-learn/scikit-learn/issues/21755 */display: inline-block !important;position: relative;}#sk-container-id-11 div.sk-text-repr-fallback {display: none;}</style><div id=\"sk-container-id-11\" class=\"sk-top-container\"><div class=\"sk-text-repr-fallback\"><pre>EndTailImputer(variables=[&#x27;Age&#x27;, &#x27;DurationOfPitch&#x27;, &#x27;NumberOfFollowups&#x27;,\n",
       "                          &#x27;PreferredPropertyStar&#x27;, &#x27;NumberOfTrips&#x27;,\n",
       "                          &#x27;NumberOfChildrenVisiting&#x27;, &#x27;MonthlyIncome&#x27;])</pre><b>In a Jupyter environment, please rerun this cell to show the HTML representation or trust the notebook. <br />On GitHub, the HTML representation is unable to render, please try loading this page with nbviewer.org.</b></div><div class=\"sk-container\" hidden><div class=\"sk-item\"><div class=\"sk-estimator sk-toggleable\"><input class=\"sk-toggleable__control sk-hidden--visually\" id=\"sk-estimator-id-11\" type=\"checkbox\" checked><label for=\"sk-estimator-id-11\" class=\"sk-toggleable__label sk-toggleable__label-arrow\">EndTailImputer</label><div class=\"sk-toggleable__content\"><pre>EndTailImputer(variables=[&#x27;Age&#x27;, &#x27;DurationOfPitch&#x27;, &#x27;NumberOfFollowups&#x27;,\n",
       "                          &#x27;PreferredPropertyStar&#x27;, &#x27;NumberOfTrips&#x27;,\n",
       "                          &#x27;NumberOfChildrenVisiting&#x27;, &#x27;MonthlyIncome&#x27;])</pre></div></div></div></div></div>"
      ],
      "text/plain": [
       "EndTailImputer(variables=['Age', 'DurationOfPitch', 'NumberOfFollowups',\n",
       "                          'PreferredPropertyStar', 'NumberOfTrips',\n",
       "                          'NumberOfChildrenVisiting', 'MonthlyIncome'])"
      ]
     },
     "execution_count": 181,
     "metadata": {},
     "output_type": "execute_result"
    }
   ],
   "source": [
    "# set up the imputer\n",
    "tail_imputer = EndTailImputer(imputation_method='gaussian',\n",
    "                          tail='right',\n",
    "                          fold=3,\n",
    "                          variables=num_col)\n",
    "# fit the imputer\n",
    "tail_imputer.fit(X)"
   ]
  },
  {
   "cell_type": "code",
   "execution_count": 183,
   "id": "5569e9f4",
   "metadata": {},
   "outputs": [
    {
     "data": {
      "text/html": [
       "<div>\n",
       "<style scoped>\n",
       "    .dataframe tbody tr th:only-of-type {\n",
       "        vertical-align: middle;\n",
       "    }\n",
       "\n",
       "    .dataframe tbody tr th {\n",
       "        vertical-align: top;\n",
       "    }\n",
       "\n",
       "    .dataframe thead th {\n",
       "        text-align: right;\n",
       "    }\n",
       "</style>\n",
       "<table border=\"1\" class=\"dataframe\">\n",
       "  <thead>\n",
       "    <tr style=\"text-align: right;\">\n",
       "      <th></th>\n",
       "      <th>Age</th>\n",
       "      <th>DurationOfPitch</th>\n",
       "      <th>NumberOfFollowups</th>\n",
       "      <th>PreferredPropertyStar</th>\n",
       "      <th>NumberOfTrips</th>\n",
       "      <th>NumberOfChildrenVisiting</th>\n",
       "      <th>MonthlyIncome</th>\n",
       "    </tr>\n",
       "  </thead>\n",
       "  <tbody>\n",
       "    <tr>\n",
       "      <th>0</th>\n",
       "      <td>41.000000</td>\n",
       "      <td>6.0</td>\n",
       "      <td>3.0</td>\n",
       "      <td>3.0</td>\n",
       "      <td>1.0</td>\n",
       "      <td>0.0</td>\n",
       "      <td>20993.0</td>\n",
       "    </tr>\n",
       "    <tr>\n",
       "      <th>1</th>\n",
       "      <td>49.000000</td>\n",
       "      <td>14.0</td>\n",
       "      <td>4.0</td>\n",
       "      <td>4.0</td>\n",
       "      <td>2.0</td>\n",
       "      <td>2.0</td>\n",
       "      <td>20130.0</td>\n",
       "    </tr>\n",
       "    <tr>\n",
       "      <th>2</th>\n",
       "      <td>37.000000</td>\n",
       "      <td>8.0</td>\n",
       "      <td>4.0</td>\n",
       "      <td>3.0</td>\n",
       "      <td>7.0</td>\n",
       "      <td>0.0</td>\n",
       "      <td>17090.0</td>\n",
       "    </tr>\n",
       "    <tr>\n",
       "      <th>3</th>\n",
       "      <td>33.000000</td>\n",
       "      <td>9.0</td>\n",
       "      <td>3.0</td>\n",
       "      <td>3.0</td>\n",
       "      <td>2.0</td>\n",
       "      <td>1.0</td>\n",
       "      <td>17909.0</td>\n",
       "    </tr>\n",
       "    <tr>\n",
       "      <th>4</th>\n",
       "      <td>65.571426</td>\n",
       "      <td>8.0</td>\n",
       "      <td>3.0</td>\n",
       "      <td>4.0</td>\n",
       "      <td>1.0</td>\n",
       "      <td>0.0</td>\n",
       "      <td>18468.0</td>\n",
       "    </tr>\n",
       "    <tr>\n",
       "      <th>...</th>\n",
       "      <td>...</td>\n",
       "      <td>...</td>\n",
       "      <td>...</td>\n",
       "      <td>...</td>\n",
       "      <td>...</td>\n",
       "      <td>...</td>\n",
       "      <td>...</td>\n",
       "    </tr>\n",
       "    <tr>\n",
       "      <th>4883</th>\n",
       "      <td>49.000000</td>\n",
       "      <td>9.0</td>\n",
       "      <td>5.0</td>\n",
       "      <td>4.0</td>\n",
       "      <td>2.0</td>\n",
       "      <td>1.0</td>\n",
       "      <td>26576.0</td>\n",
       "    </tr>\n",
       "    <tr>\n",
       "      <th>4884</th>\n",
       "      <td>28.000000</td>\n",
       "      <td>31.0</td>\n",
       "      <td>5.0</td>\n",
       "      <td>3.0</td>\n",
       "      <td>3.0</td>\n",
       "      <td>2.0</td>\n",
       "      <td>21212.0</td>\n",
       "    </tr>\n",
       "    <tr>\n",
       "      <th>4885</th>\n",
       "      <td>52.000000</td>\n",
       "      <td>17.0</td>\n",
       "      <td>4.0</td>\n",
       "      <td>4.0</td>\n",
       "      <td>7.0</td>\n",
       "      <td>3.0</td>\n",
       "      <td>31820.0</td>\n",
       "    </tr>\n",
       "    <tr>\n",
       "      <th>4886</th>\n",
       "      <td>19.000000</td>\n",
       "      <td>16.0</td>\n",
       "      <td>4.0</td>\n",
       "      <td>3.0</td>\n",
       "      <td>3.0</td>\n",
       "      <td>2.0</td>\n",
       "      <td>20289.0</td>\n",
       "    </tr>\n",
       "    <tr>\n",
       "      <th>4887</th>\n",
       "      <td>36.000000</td>\n",
       "      <td>14.0</td>\n",
       "      <td>4.0</td>\n",
       "      <td>4.0</td>\n",
       "      <td>3.0</td>\n",
       "      <td>2.0</td>\n",
       "      <td>24041.0</td>\n",
       "    </tr>\n",
       "  </tbody>\n",
       "</table>\n",
       "<p>4888 rows × 7 columns</p>\n",
       "</div>"
      ],
      "text/plain": [
       "            Age  DurationOfPitch  NumberOfFollowups  PreferredPropertyStar  \\\n",
       "0     41.000000              6.0                3.0                    3.0   \n",
       "1     49.000000             14.0                4.0                    4.0   \n",
       "2     37.000000              8.0                4.0                    3.0   \n",
       "3     33.000000              9.0                3.0                    3.0   \n",
       "4     65.571426              8.0                3.0                    4.0   \n",
       "...         ...              ...                ...                    ...   \n",
       "4883  49.000000              9.0                5.0                    4.0   \n",
       "4884  28.000000             31.0                5.0                    3.0   \n",
       "4885  52.000000             17.0                4.0                    4.0   \n",
       "4886  19.000000             16.0                4.0                    3.0   \n",
       "4887  36.000000             14.0                4.0                    4.0   \n",
       "\n",
       "      NumberOfTrips  NumberOfChildrenVisiting  MonthlyIncome  \n",
       "0               1.0                       0.0        20993.0  \n",
       "1               2.0                       2.0        20130.0  \n",
       "2               7.0                       0.0        17090.0  \n",
       "3               2.0                       1.0        17909.0  \n",
       "4               1.0                       0.0        18468.0  \n",
       "...             ...                       ...            ...  \n",
       "4883            2.0                       1.0        26576.0  \n",
       "4884            3.0                       2.0        21212.0  \n",
       "4885            7.0                       3.0        31820.0  \n",
       "4886            3.0                       2.0        20289.0  \n",
       "4887            3.0                       2.0        24041.0  \n",
       "\n",
       "[4888 rows x 7 columns]"
      ]
     },
     "execution_count": 183,
     "metadata": {},
     "output_type": "execute_result"
    }
   ],
   "source": [
    "X=tail_imputer.transform(X)\n",
    "X"
   ]
  },
  {
   "cell_type": "markdown",
   "id": "c0351ab2",
   "metadata": {},
   "source": [
    "Method 7: Multivariate Imputation by Chained Equations\n",
    "\n",
    "Multivariate Imputation by Chained Equations is a multiple Imputation Technique that models each variable with missing values as a function of the remaining variables and uses that estimate for Impputation"
   ]
  },
  {
   "cell_type": "markdown",
   "id": "b8651417",
   "metadata": {},
   "source": [
    "A more sophisticated approach is to use the IterativeImputer class, which models each feature with missing values as a function of other features, and uses that estimate for imputation. It does so in an iterated round-robin fashion: at each step, a feature column is designated as output y and the other feature columns are treated as inputs X. A regressor is fit on (X, y) for known y. Then, the regressor is used to predict the missing values of y. This is done for each feature in an iterative fashion, and then is repeated for max_iter imputation rounds. The results of the final imputation round are returned."
   ]
  },
  {
   "cell_type": "code",
   "execution_count": 184,
   "id": "5d58c10a",
   "metadata": {},
   "outputs": [],
   "source": [
    "import numpy as np\n",
    "from sklearn.experimental import enable_iterative_imputer\n",
    "from sklearn.impute import IterativeImputer"
   ]
  },
  {
   "cell_type": "code",
   "execution_count": 185,
   "id": "2995d184",
   "metadata": {},
   "outputs": [
    {
     "data": {
      "text/html": [
       "<div>\n",
       "<style scoped>\n",
       "    .dataframe tbody tr th:only-of-type {\n",
       "        vertical-align: middle;\n",
       "    }\n",
       "\n",
       "    .dataframe tbody tr th {\n",
       "        vertical-align: top;\n",
       "    }\n",
       "\n",
       "    .dataframe thead th {\n",
       "        text-align: right;\n",
       "    }\n",
       "</style>\n",
       "<table border=\"1\" class=\"dataframe\">\n",
       "  <thead>\n",
       "    <tr style=\"text-align: right;\">\n",
       "      <th></th>\n",
       "      <th>Age</th>\n",
       "      <th>DurationOfPitch</th>\n",
       "      <th>NumberOfFollowups</th>\n",
       "      <th>PreferredPropertyStar</th>\n",
       "      <th>NumberOfTrips</th>\n",
       "      <th>NumberOfChildrenVisiting</th>\n",
       "      <th>MonthlyIncome</th>\n",
       "    </tr>\n",
       "  </thead>\n",
       "  <tbody>\n",
       "    <tr>\n",
       "      <th>0</th>\n",
       "      <td>41.0</td>\n",
       "      <td>6.0</td>\n",
       "      <td>3.0</td>\n",
       "      <td>3.0</td>\n",
       "      <td>1.0</td>\n",
       "      <td>0.0</td>\n",
       "      <td>20993.0</td>\n",
       "    </tr>\n",
       "    <tr>\n",
       "      <th>1</th>\n",
       "      <td>49.0</td>\n",
       "      <td>14.0</td>\n",
       "      <td>4.0</td>\n",
       "      <td>4.0</td>\n",
       "      <td>2.0</td>\n",
       "      <td>2.0</td>\n",
       "      <td>20130.0</td>\n",
       "    </tr>\n",
       "    <tr>\n",
       "      <th>2</th>\n",
       "      <td>37.0</td>\n",
       "      <td>8.0</td>\n",
       "      <td>4.0</td>\n",
       "      <td>3.0</td>\n",
       "      <td>7.0</td>\n",
       "      <td>0.0</td>\n",
       "      <td>17090.0</td>\n",
       "    </tr>\n",
       "    <tr>\n",
       "      <th>3</th>\n",
       "      <td>33.0</td>\n",
       "      <td>9.0</td>\n",
       "      <td>3.0</td>\n",
       "      <td>3.0</td>\n",
       "      <td>2.0</td>\n",
       "      <td>1.0</td>\n",
       "      <td>17909.0</td>\n",
       "    </tr>\n",
       "    <tr>\n",
       "      <th>4</th>\n",
       "      <td>NaN</td>\n",
       "      <td>8.0</td>\n",
       "      <td>3.0</td>\n",
       "      <td>4.0</td>\n",
       "      <td>1.0</td>\n",
       "      <td>0.0</td>\n",
       "      <td>18468.0</td>\n",
       "    </tr>\n",
       "    <tr>\n",
       "      <th>...</th>\n",
       "      <td>...</td>\n",
       "      <td>...</td>\n",
       "      <td>...</td>\n",
       "      <td>...</td>\n",
       "      <td>...</td>\n",
       "      <td>...</td>\n",
       "      <td>...</td>\n",
       "    </tr>\n",
       "    <tr>\n",
       "      <th>4883</th>\n",
       "      <td>49.0</td>\n",
       "      <td>9.0</td>\n",
       "      <td>5.0</td>\n",
       "      <td>4.0</td>\n",
       "      <td>2.0</td>\n",
       "      <td>1.0</td>\n",
       "      <td>26576.0</td>\n",
       "    </tr>\n",
       "    <tr>\n",
       "      <th>4884</th>\n",
       "      <td>28.0</td>\n",
       "      <td>31.0</td>\n",
       "      <td>5.0</td>\n",
       "      <td>3.0</td>\n",
       "      <td>3.0</td>\n",
       "      <td>2.0</td>\n",
       "      <td>21212.0</td>\n",
       "    </tr>\n",
       "    <tr>\n",
       "      <th>4885</th>\n",
       "      <td>52.0</td>\n",
       "      <td>17.0</td>\n",
       "      <td>4.0</td>\n",
       "      <td>4.0</td>\n",
       "      <td>7.0</td>\n",
       "      <td>3.0</td>\n",
       "      <td>31820.0</td>\n",
       "    </tr>\n",
       "    <tr>\n",
       "      <th>4886</th>\n",
       "      <td>19.0</td>\n",
       "      <td>16.0</td>\n",
       "      <td>4.0</td>\n",
       "      <td>3.0</td>\n",
       "      <td>3.0</td>\n",
       "      <td>2.0</td>\n",
       "      <td>20289.0</td>\n",
       "    </tr>\n",
       "    <tr>\n",
       "      <th>4887</th>\n",
       "      <td>36.0</td>\n",
       "      <td>14.0</td>\n",
       "      <td>4.0</td>\n",
       "      <td>4.0</td>\n",
       "      <td>3.0</td>\n",
       "      <td>2.0</td>\n",
       "      <td>24041.0</td>\n",
       "    </tr>\n",
       "  </tbody>\n",
       "</table>\n",
       "<p>4888 rows × 7 columns</p>\n",
       "</div>"
      ],
      "text/plain": [
       "       Age  DurationOfPitch  NumberOfFollowups  PreferredPropertyStar  \\\n",
       "0     41.0              6.0                3.0                    3.0   \n",
       "1     49.0             14.0                4.0                    4.0   \n",
       "2     37.0              8.0                4.0                    3.0   \n",
       "3     33.0              9.0                3.0                    3.0   \n",
       "4      NaN              8.0                3.0                    4.0   \n",
       "...    ...              ...                ...                    ...   \n",
       "4883  49.0              9.0                5.0                    4.0   \n",
       "4884  28.0             31.0                5.0                    3.0   \n",
       "4885  52.0             17.0                4.0                    4.0   \n",
       "4886  19.0             16.0                4.0                    3.0   \n",
       "4887  36.0             14.0                4.0                    4.0   \n",
       "\n",
       "      NumberOfTrips  NumberOfChildrenVisiting  MonthlyIncome  \n",
       "0               1.0                       0.0        20993.0  \n",
       "1               2.0                       2.0        20130.0  \n",
       "2               7.0                       0.0        17090.0  \n",
       "3               2.0                       1.0        17909.0  \n",
       "4               1.0                       0.0        18468.0  \n",
       "...             ...                       ...            ...  \n",
       "4883            2.0                       1.0        26576.0  \n",
       "4884            3.0                       2.0        21212.0  \n",
       "4885            7.0                       3.0        31820.0  \n",
       "4886            3.0                       2.0        20289.0  \n",
       "4887            3.0                       2.0        24041.0  \n",
       "\n",
       "[4888 rows x 7 columns]"
      ]
     },
     "execution_count": 185,
     "metadata": {},
     "output_type": "execute_result"
    }
   ],
   "source": [
    "X=data[num_col]\n",
    "X"
   ]
  },
  {
   "cell_type": "code",
   "execution_count": 186,
   "id": "5612194a",
   "metadata": {},
   "outputs": [
    {
     "data": {
      "text/plain": [
       "Age                         226\n",
       "DurationOfPitch             251\n",
       "NumberOfFollowups            45\n",
       "PreferredPropertyStar        26\n",
       "NumberOfTrips               140\n",
       "NumberOfChildrenVisiting     66\n",
       "MonthlyIncome               233\n",
       "dtype: int64"
      ]
     },
     "execution_count": 186,
     "metadata": {},
     "output_type": "execute_result"
    }
   ],
   "source": [
    "X.isnull().sum()"
   ]
  },
  {
   "cell_type": "code",
   "execution_count": 187,
   "id": "d8f042e2",
   "metadata": {},
   "outputs": [],
   "source": [
    "imp = IterativeImputer(max_iter=10,random_state=0)"
   ]
  },
  {
   "cell_type": "code",
   "execution_count": 188,
   "id": "7822bf6f",
   "metadata": {},
   "outputs": [
    {
     "data": {
      "text/html": [
       "<style>#sk-container-id-12 {color: black;background-color: white;}#sk-container-id-12 pre{padding: 0;}#sk-container-id-12 div.sk-toggleable {background-color: white;}#sk-container-id-12 label.sk-toggleable__label {cursor: pointer;display: block;width: 100%;margin-bottom: 0;padding: 0.3em;box-sizing: border-box;text-align: center;}#sk-container-id-12 label.sk-toggleable__label-arrow:before {content: \"▸\";float: left;margin-right: 0.25em;color: #696969;}#sk-container-id-12 label.sk-toggleable__label-arrow:hover:before {color: black;}#sk-container-id-12 div.sk-estimator:hover label.sk-toggleable__label-arrow:before {color: black;}#sk-container-id-12 div.sk-toggleable__content {max-height: 0;max-width: 0;overflow: hidden;text-align: left;background-color: #f0f8ff;}#sk-container-id-12 div.sk-toggleable__content pre {margin: 0.2em;color: black;border-radius: 0.25em;background-color: #f0f8ff;}#sk-container-id-12 input.sk-toggleable__control:checked~div.sk-toggleable__content {max-height: 200px;max-width: 100%;overflow: auto;}#sk-container-id-12 input.sk-toggleable__control:checked~label.sk-toggleable__label-arrow:before {content: \"▾\";}#sk-container-id-12 div.sk-estimator input.sk-toggleable__control:checked~label.sk-toggleable__label {background-color: #d4ebff;}#sk-container-id-12 div.sk-label input.sk-toggleable__control:checked~label.sk-toggleable__label {background-color: #d4ebff;}#sk-container-id-12 input.sk-hidden--visually {border: 0;clip: rect(1px 1px 1px 1px);clip: rect(1px, 1px, 1px, 1px);height: 1px;margin: -1px;overflow: hidden;padding: 0;position: absolute;width: 1px;}#sk-container-id-12 div.sk-estimator {font-family: monospace;background-color: #f0f8ff;border: 1px dotted black;border-radius: 0.25em;box-sizing: border-box;margin-bottom: 0.5em;}#sk-container-id-12 div.sk-estimator:hover {background-color: #d4ebff;}#sk-container-id-12 div.sk-parallel-item::after {content: \"\";width: 100%;border-bottom: 1px solid gray;flex-grow: 1;}#sk-container-id-12 div.sk-label:hover label.sk-toggleable__label {background-color: #d4ebff;}#sk-container-id-12 div.sk-serial::before {content: \"\";position: absolute;border-left: 1px solid gray;box-sizing: border-box;top: 0;bottom: 0;left: 50%;z-index: 0;}#sk-container-id-12 div.sk-serial {display: flex;flex-direction: column;align-items: center;background-color: white;padding-right: 0.2em;padding-left: 0.2em;position: relative;}#sk-container-id-12 div.sk-item {position: relative;z-index: 1;}#sk-container-id-12 div.sk-parallel {display: flex;align-items: stretch;justify-content: center;background-color: white;position: relative;}#sk-container-id-12 div.sk-item::before, #sk-container-id-12 div.sk-parallel-item::before {content: \"\";position: absolute;border-left: 1px solid gray;box-sizing: border-box;top: 0;bottom: 0;left: 50%;z-index: -1;}#sk-container-id-12 div.sk-parallel-item {display: flex;flex-direction: column;z-index: 1;position: relative;background-color: white;}#sk-container-id-12 div.sk-parallel-item:first-child::after {align-self: flex-end;width: 50%;}#sk-container-id-12 div.sk-parallel-item:last-child::after {align-self: flex-start;width: 50%;}#sk-container-id-12 div.sk-parallel-item:only-child::after {width: 0;}#sk-container-id-12 div.sk-dashed-wrapped {border: 1px dashed gray;margin: 0 0.4em 0.5em 0.4em;box-sizing: border-box;padding-bottom: 0.4em;background-color: white;}#sk-container-id-12 div.sk-label label {font-family: monospace;font-weight: bold;display: inline-block;line-height: 1.2em;}#sk-container-id-12 div.sk-label-container {text-align: center;}#sk-container-id-12 div.sk-container {/* jupyter's `normalize.less` sets `[hidden] { display: none; }` but bootstrap.min.css set `[hidden] { display: none !important; }` so we also need the `!important` here to be able to override the default hidden behavior on the sphinx rendered scikit-learn.org. See: https://github.com/scikit-learn/scikit-learn/issues/21755 */display: inline-block !important;position: relative;}#sk-container-id-12 div.sk-text-repr-fallback {display: none;}</style><div id=\"sk-container-id-12\" class=\"sk-top-container\"><div class=\"sk-text-repr-fallback\"><pre>IterativeImputer(random_state=0)</pre><b>In a Jupyter environment, please rerun this cell to show the HTML representation or trust the notebook. <br />On GitHub, the HTML representation is unable to render, please try loading this page with nbviewer.org.</b></div><div class=\"sk-container\" hidden><div class=\"sk-item\"><div class=\"sk-estimator sk-toggleable\"><input class=\"sk-toggleable__control sk-hidden--visually\" id=\"sk-estimator-id-12\" type=\"checkbox\" checked><label for=\"sk-estimator-id-12\" class=\"sk-toggleable__label sk-toggleable__label-arrow\">IterativeImputer</label><div class=\"sk-toggleable__content\"><pre>IterativeImputer(random_state=0)</pre></div></div></div></div></div>"
      ],
      "text/plain": [
       "IterativeImputer(random_state=0)"
      ]
     },
     "execution_count": 188,
     "metadata": {},
     "output_type": "execute_result"
    }
   ],
   "source": [
    "imp.fit(X)"
   ]
  },
  {
   "cell_type": "code",
   "execution_count": 189,
   "id": "25831a76",
   "metadata": {},
   "outputs": [
    {
     "data": {
      "text/plain": [
       "array([[4.1000e+01, 6.0000e+00, 3.0000e+00, ..., 1.0000e+00, 0.0000e+00,\n",
       "        2.0993e+04],\n",
       "       [4.9000e+01, 1.4000e+01, 4.0000e+00, ..., 2.0000e+00, 2.0000e+00,\n",
       "        2.0130e+04],\n",
       "       [3.7000e+01, 8.0000e+00, 4.0000e+00, ..., 7.0000e+00, 0.0000e+00,\n",
       "        1.7090e+04],\n",
       "       ...,\n",
       "       [5.2000e+01, 1.7000e+01, 4.0000e+00, ..., 7.0000e+00, 3.0000e+00,\n",
       "        3.1820e+04],\n",
       "       [1.9000e+01, 1.6000e+01, 4.0000e+00, ..., 3.0000e+00, 2.0000e+00,\n",
       "        2.0289e+04],\n",
       "       [3.6000e+01, 1.4000e+01, 4.0000e+00, ..., 3.0000e+00, 2.0000e+00,\n",
       "        2.4041e+04]])"
      ]
     },
     "execution_count": 189,
     "metadata": {},
     "output_type": "execute_result"
    }
   ],
   "source": [
    "X=imp.transform(X)\n",
    "X"
   ]
  },
  {
   "cell_type": "code",
   "execution_count": 190,
   "id": "107b082c",
   "metadata": {},
   "outputs": [
    {
     "data": {
      "text/plain": [
       "0    0\n",
       "1    0\n",
       "2    0\n",
       "3    0\n",
       "4    0\n",
       "5    0\n",
       "6    0\n",
       "dtype: int64"
      ]
     },
     "execution_count": 190,
     "metadata": {},
     "output_type": "execute_result"
    }
   ],
   "source": [
    "result_1=pd.DataFrame(X)# Converting back to a DataFrame\n",
    "result_1.isnull().sum()"
   ]
  },
  {
   "cell_type": "code",
   "execution_count": null,
   "id": "043e3570",
   "metadata": {},
   "outputs": [],
   "source": []
  }
 ],
 "metadata": {
  "kernelspec": {
   "display_name": "Python 3 (ipykernel)",
   "language": "python",
   "name": "python3"
  },
  "language_info": {
   "codemirror_mode": {
    "name": "ipython",
    "version": 3
   },
   "file_extension": ".py",
   "mimetype": "text/x-python",
   "name": "python",
   "nbconvert_exporter": "python",
   "pygments_lexer": "ipython3",
   "version": "3.10.4"
  }
 },
 "nbformat": 4,
 "nbformat_minor": 5
}
