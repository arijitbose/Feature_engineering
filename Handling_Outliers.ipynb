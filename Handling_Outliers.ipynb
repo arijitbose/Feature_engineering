{
 "cells": [
  {
   "cell_type": "code",
   "execution_count": 1,
   "id": "1c78d4b4",
   "metadata": {},
   "outputs": [],
   "source": [
    "import pandas as pd\n",
    "import numpy as np\n",
    "import matplotlib.pyplot as plt\n",
    "import seaborn as sns\n",
    "%matplotlib inline\n",
    "import warnings\n",
    "warnings.filterwarnings('ignore')"
   ]
  },
  {
   "cell_type": "code",
   "execution_count": 2,
   "id": "963d706b",
   "metadata": {},
   "outputs": [],
   "source": [
    "data=pd.read_csv('Travel.csv')"
   ]
  },
  {
   "cell_type": "code",
   "execution_count": 3,
   "id": "196ee758",
   "metadata": {},
   "outputs": [
    {
     "data": {
      "text/plain": [
       "['Age',\n",
       " 'DurationOfPitch',\n",
       " 'NumberOfFollowups',\n",
       " 'PreferredPropertyStar',\n",
       " 'NumberOfTrips',\n",
       " 'NumberOfChildrenVisiting',\n",
       " 'MonthlyIncome']"
      ]
     },
     "execution_count": 3,
     "metadata": {},
     "output_type": "execute_result"
    }
   ],
   "source": [
    "num_col=[fea for fea in data.columns if (data[fea].dtype !='O' and data[fea].dtype !=int)]\n",
    "#segregating categorical and numerical variables \n",
    "num_col"
   ]
  },
  {
   "cell_type": "code",
   "execution_count": 4,
   "id": "ac128580",
   "metadata": {},
   "outputs": [
    {
     "data": {
      "text/plain": [
       "109950418.0"
      ]
     },
     "execution_count": 4,
     "metadata": {},
     "output_type": "execute_result"
    }
   ],
   "source": [
    "X=data[num_col]\n",
    "X['MonthlyIncome'].sum()"
   ]
  },
  {
   "cell_type": "code",
   "execution_count": 5,
   "id": "df82de69",
   "metadata": {},
   "outputs": [],
   "source": [
    "# Performing Mean Imputation\n",
    "\n",
    "for var in num_col:\n",
    "    value=X[var].mean()\n",
    "    X[var]=X[var].fillna(value)"
   ]
  },
  {
   "cell_type": "code",
   "execution_count": 6,
   "id": "09f7320c",
   "metadata": {},
   "outputs": [
    {
     "data": {
      "text/plain": [
       "<AxesSubplot:>"
      ]
     },
     "execution_count": 6,
     "metadata": {},
     "output_type": "execute_result"
    },
    {
     "data": {
      "image/png": "[encoded data removed]",
      "text/plain": [
       "<Figure size 432x288 with 1 Axes>"
      ]
     },
     "metadata": {
      "needs_background": "light"
     },
     "output_type": "display_data"
    }
   ],
   "source": [
    "sns.boxplot(X['MonthlyIncome']) # Taking Monthly Income as the variable\n"
   ]
  },
  {
   "cell_type": "markdown",
   "id": "64575ec5",
   "metadata": {},
   "source": [
    "Method 1: Replacing Outliers in the dataset with threshold values or Winorization"
   ]
  },
  {
   "cell_type": "code",
   "execution_count": 7,
   "id": "9e5b8803",
   "metadata": {},
   "outputs": [],
   "source": [
    "def find_boundaries(df,variable):\n",
    "    \n",
    "    IQR=df[variable].quantile(0.75)-df[variable].quantile(0.25)\n",
    "    lower_boundary=df[variable].quantile(0.25)-(IQR*1.5)\n",
    "    upper_boundary=df[variable].quantile(0.75)+(IQR*1.5)\n",
    "    return upper_boundary,lower_boundary\n",
    "    "
   ]
  },
  {
   "cell_type": "code",
   "execution_count": 8,
   "id": "7e29709d",
   "metadata": {},
   "outputs": [],
   "source": [
    "def replace_with_threshold(df,var):\n",
    "    for variable in num_col:\n",
    "        upper_boundary,lower_boundary=find_boundaries(df,variable)\n",
    "        data.loc[data[variable]<lower_boundary,variable]=lower_boundary\n",
    "        data.loc[data[variable]>upper_boundary,variable]=upper_boundary\n",
    "        "
   ]
  },
  {
   "cell_type": "code",
   "execution_count": 9,
   "id": "017b648f",
   "metadata": {},
   "outputs": [],
   "source": [
    "MonthlyIncome_upper_limit,MonthlyIncome_lower_limit=find_boundaries(X,'MonthlyIncome')"
   ]
  },
  {
   "cell_type": "code",
   "execution_count": 10,
   "id": "90d9ec74",
   "metadata": {},
   "outputs": [
    {
     "data": {
      "text/plain": [
       "(32834.375, 13075.375)"
      ]
     },
     "execution_count": 10,
     "metadata": {},
     "output_type": "execute_result"
    }
   ],
   "source": [
    "MonthlyIncome_upper_limit,MonthlyIncome_lower_limit"
   ]
  },
  {
   "cell_type": "code",
   "execution_count": 11,
   "id": "143f9da1",
   "metadata": {},
   "outputs": [],
   "source": [
    "replace_with_threshold(X,'MonthlyIncome')"
   ]
  },
  {
   "cell_type": "code",
   "execution_count": 12,
   "id": "64fb8148",
   "metadata": {},
   "outputs": [
    {
     "data": {
      "text/plain": [
       "115453843.86337271"
      ]
     },
     "execution_count": 12,
     "metadata": {},
     "output_type": "execute_result"
    }
   ],
   "source": [
    "X['MonthlyIncome'].sum()"
   ]
  },
  {
   "cell_type": "markdown",
   "id": "1c52739e",
   "metadata": {},
   "source": [
    "Method 2: Trimming outliers from data set\n",
    "\n",
    "Here we remove outliers completely"
   ]
  },
  {
   "cell_type": "code",
   "execution_count": 14,
   "id": "2f161884",
   "metadata": {},
   "outputs": [],
   "source": [
    "outliers_MonthlyIncome = np.where(X['MonthlyIncome'] > MonthlyIncome_upper_limit, True,\n",
    "                       np.where(X['MonthlyIncome'] < MonthlyIncome_lower_limit, True, False))"
   ]
  },
  {
   "cell_type": "code",
   "execution_count": 27,
   "id": "e35bdd17",
   "metadata": {},
   "outputs": [
    {
     "data": {
      "text/plain": [
       "((4888, 7), (4513, 7))"
      ]
     },
     "execution_count": 27,
     "metadata": {},
     "output_type": "execute_result"
    }
   ],
   "source": [
    "X_trimmed = X.loc[~outliers_MonthlyIncome] # deleting Outliers\n",
    "\n",
    "X.shape, X_trimmed.shape\n"
   ]
  },
  {
   "cell_type": "code",
   "execution_count": 16,
   "id": "f55ef65e",
   "metadata": {},
   "outputs": [
    {
     "data": {
      "text/plain": [
       "<AxesSubplot:ylabel='MonthlyIncome'>"
      ]
     },
     "execution_count": 16,
     "metadata": {},
     "output_type": "execute_result"
    },
    {
     "data": {
      "image/png": "[encoded data removed]",
      "text/plain": [
       "<Figure size 432x288 with 1 Axes>"
      ]
     },
     "metadata": {
      "needs_background": "light"
     },
     "output_type": "display_data"
    }
   ],
   "source": [
    "sns.boxplot(y=X_trimmed['MonthlyIncome'])"
   ]
  }
 ],
 "metadata": {
  "kernelspec": {
   "display_name": "Python 3 (ipykernel)",
   "language": "python",
   "name": "python3"
  },
  "language_info": {
   "codemirror_mode": {
    "name": "ipython",
    "version": 3
   },
   "file_extension": ".py",
   "mimetype": "text/x-python",
   "name": "python",
   "nbconvert_exporter": "python",
   "pygments_lexer": "ipython3",
   "version": "3.10.4"
  }
 },
 "nbformat": 4,
 "nbformat_minor": 5
}
